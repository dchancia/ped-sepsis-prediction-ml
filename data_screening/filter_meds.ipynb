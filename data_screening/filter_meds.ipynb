{
 "cells": [
  {
   "cell_type": "code",
   "execution_count": 1,
   "metadata": {},
   "outputs": [],
   "source": [
    "# Import libraries and packages\n",
    "import pandas as pd\n",
    "import numpy as np\n",
    "import warnings\n",
    "import os\n",
    "warnings.filterwarnings(\"ignore\")"
   ]
  },
  {
   "cell_type": "code",
   "execution_count": 2,
   "metadata": {},
   "outputs": [],
   "source": [
    "# Load data\n",
    "data = pd.read_parquet('/labs/kamaleswaranlab/ECMO/new_data/DR15269_Medication_Administrations.parquet.gzip')\n",
    "data = data[['Z Patient ID', 'Encounter CSN', 'Date of Birth', 'Medication ID', 'Medication', 'MAR Action', 'MAR Time', 'Dose', 'Dose Unit']]\n",
    "data.columns = ['patid', 'csn', 'dob', 'med_id', 'med', 'mar_action', 'mar_time', 'dose', 'dose_unit']\n",
    "data.dropna(inplace=True)\n",
    "data[['dob', 'mar_time']] = data[['dob', 'mar_time']].apply(pd.to_datetime)\n",
    "data['csn'] = data['csn'].astype(int)\n",
    "data['dose'] = data['dose'].astype(float)"
   ]
  },
  {
   "cell_type": "code",
   "execution_count": 3,
   "metadata": {},
   "outputs": [],
   "source": [
    "# Filter data\n",
    "\n",
    "meds_list = ['albuterol', 'dexamethasone', 'epinephrine', 'methylprednisolone', 'magnesium sulfate', 'terbutaline', 'levalbuterol', 'xopenex', 'lorazepam', 'levetiracetam', \n",
    "             'fosphenytoin', 'phenobarbital', 'clonidine', 'precedex', 'dexmedetomidine', 'esmolol', 'labetalol', 'epinephrine', 'phenylephrine', 'dopamine', 'adrenaline', \n",
    "             'norepinephrine', 'vasopressin', 'dobutamine', 'milrinone', 'insulin']\n",
    "\n",
    "data = data[(data['med'].str.contains('|'.join(meds_list), case=False)) &\n",
    "            ~(data['med'].str.contains(\"racepinephrine\", case=False))]\n",
    "\n",
    "# Save data\n",
    "data.to_parquet('/labs/kamaleswaranlab/dchanci/data/pediatric_sepsis/prediction_ml/updated_data/data_screening/filtered_meds.parquet.gzip', compression='gzip')"
   ]
  }
 ],
 "metadata": {
  "kernelspec": {
   "display_name": "cv_ml",
   "language": "python",
   "name": "python3"
  },
  "language_info": {
   "codemirror_mode": {
    "name": "ipython",
    "version": 3
   },
   "file_extension": ".py",
   "mimetype": "text/x-python",
   "name": "python",
   "nbconvert_exporter": "python",
   "pygments_lexer": "ipython3",
   "version": "3.9.12"
  },
  "orig_nbformat": 4
 },
 "nbformat": 4,
 "nbformat_minor": 2
}
