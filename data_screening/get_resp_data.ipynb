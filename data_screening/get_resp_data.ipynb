{
 "cells": [
  {
   "cell_type": "code",
   "execution_count": 1,
   "metadata": {},
   "outputs": [],
   "source": [
    "# Import libraries and packages\n",
    "import pandas as pd\n",
    "import numpy as np\n",
    "import os\n",
    "import math\n",
    "from datetime import datetime, timedelta\n",
    "from scipy import stats\n",
    "import matplotlib.pyplot as plt\n",
    "import warnings\n",
    "warnings.filterwarnings(\"ignore\")"
   ]
  },
  {
   "cell_type": "code",
   "execution_count": 2,
   "metadata": {},
   "outputs": [],
   "source": [
    "# Load encounters file\n",
    "dept_path = '/labs/kamaleswaranlab/ECMO/new_data/TAB2_Encounter_Departments.parquet.gzip'\n",
    "dept = pd.read_parquet(dept_path)\n",
    "dept[['BIRTH_DATE', 'Hosp_Admission', 'Hosp_Discharge', 'Entered_Dept', 'Exited_Dept']] = dept[['BIRTH_DATE', 'Hosp_Admission', 'Hosp_Discharge', 'Entered_Dept', 'Exited_Dept']].apply(pd.to_datetime)\n",
    "dept = dept[['Pat ID', 'Encounter CSN', 'Name', 'BIRTH_DATE', 'Department', 'Entered_Dept', 'Exited_Dept', 'Hosp_Admission', 'Hosp_Discharge']]\n",
    "dept.columns = ['patid', 'csn', 'name', 'dob', 'department', 'entered_dept', 'exited_dept', 'hosp_adm', 'hosp_disch']\n",
    "dept = dept[(dept['department'].str.contains('PEDIATRIC ICU')) & (dept['hosp_adm'] >= '2010-01-01')]\n",
    "dept['csn'] = dept['csn'].astype(int)\n",
    "dept.dropna(inplace=True)\n",
    "dept.drop_duplicates(inplace=True)\n",
    "\n",
    "# Load ETT file\n",
    "ett_path = '/labs/kamaleswaranlab/ECMO/new_data/TAB6_ETTs_and_Trachs.parquet.gzip'\n",
    "mv_ett = pd.read_parquet(ett_path)\n",
    "mv_ett.columns = ['patid', 'name', 'dob', 'mrn', 'lda_type', 'placement_date', 'removal_date', 'lda_in_place']\n",
    "mv_ett[['dob', 'placement_date', 'removal_date']] = mv_ett[['dob', 'placement_date', 'removal_date']].apply(pd.to_datetime)\n",
    "mv_ett = mv_ett.merge(dept[['patid', 'csn', 'hosp_adm', 'hosp_disch']], how='inner', on='patid')\n",
    "mv_ett = mv_ett[(mv_ett['placement_date'] >= mv_ett['hosp_adm']) & (mv_ett['placement_date'] <= mv_ett['hosp_disch']) & (mv_ett['placement_date'] >= '2010-01-01')]\n",
    "\n",
    "# Create list of CSNs with tracheostomy tube\n",
    "trach_list = mv_ett.loc[mv_ett['lda_type'] == 'Tracheostomy Tube', 'csn'].unique().tolist()\n",
    "\n",
    "# Filter patients with endotracheal tube\n",
    "mv_ett = mv_ett[mv_ett['lda_type'] == 'Endotracheal Tube']\n",
    "mv_ett.dropna(inplace=True)\n",
    "mv_ett.reset_index(drop=True, inplace=True)\n",
    "\n",
    "# Organize data\n",
    "mv_ett = mv_ett[['patid', 'csn', 'dob', 'placement_date']]\n",
    "mv_ett['variable_id'] = 2\n",
    "mv_ett['variable_name'] = 'resp_indicator'\n",
    "mv_ett['value'] = 1\n",
    "mv_ett = mv_ett[['patid', 'csn', 'dob', 'variable_id', 'variable_name', 'placement_date', 'value']]\n",
    "mv_ett.columns = ['patid', 'csn', 'dob', 'variable_id', 'variable_name', 'recorded_time', 'value']"
   ]
  },
  {
   "cell_type": "code",
   "execution_count": 4,
   "metadata": {},
   "outputs": [],
   "source": [
    "# Load mechanical ventilation indicators\n",
    "mv_fs = pd.read_parquet('/labs/kamaleswaranlab/dchanci/data/pediatric_sepsis/prediction_ml/updated_data/data_screening/mv_indicators_raw.parquet.gzip')\n",
    "mv_fs[['dob', 'recorded_time']] = mv_fs[['dob', 'recorded_time']].apply(pd.to_datetime)\n",
    "mv_fs['csn'] = mv_fs['csn'].astype(int)\n",
    "mv_fs = mv_fs[mv_fs['csn'].isin(dept['csn'].unique().tolist())]\n",
    "\n",
    "# Create list of CSNs with tracheostomy tube\n",
    "trach_list.extend(mv_fs.loc[((mv_fs['variable_name'] == 'Apparatus Type') | (mv_fs['variable_name'] == 'Mechanical Vent Initial')) & (mv_fs['value'].str.contains('Trach')), 'csn'].unique().tolist()) \n",
    "mv_fs.dropna(subset='value', inplace=True)\n",
    "\n",
    "# Filter Mechanical Vent Initial\n",
    "discard = ['Off-Discontinued Vent', 'V/Trach']\n",
    "mv_fs = mv_fs[~((mv_fs['variable_name'] == 'Mechanical Vent Initial') & (mv_fs['value'].isin(discard)))] \n",
    "\n",
    "mv_fs = mv_fs[['patid', 'csn', 'dob', 'recorded_time']]\n",
    "mv_fs['variable_id'] = 2\n",
    "mv_fs['variable_name'] = 'resp_indicator'\n",
    "mv_fs['value'] = 1\n",
    "mv_fs = mv_fs[['patid', 'csn', 'dob', 'variable_id', 'variable_name', 'recorded_time', 'value']]"
   ]
  },
  {
   "cell_type": "code",
   "execution_count": 5,
   "metadata": {},
   "outputs": [],
   "source": [
    "# Concat dataframes\n",
    "mv = pd.concat([mv_ett, mv_fs])\n",
    "\n",
    "# Discard CSNs with trach\n",
    "mv = mv[~(mv['csn'].isin(trach_list))]\n",
    "\n",
    "# Save file\n",
    "mv.to_parquet('/labs/kamaleswaranlab/dchanci/data/pediatric_sepsis/prediction_ml/updated_data/data_screening/resp_data.parquet.gzip', compression='gzip')"
   ]
  }
 ],
 "metadata": {
  "kernelspec": {
   "display_name": "cv_ml",
   "language": "python",
   "name": "python3"
  },
  "language_info": {
   "codemirror_mode": {
    "name": "ipython",
    "version": 3
   },
   "file_extension": ".py",
   "mimetype": "text/x-python",
   "name": "python",
   "nbconvert_exporter": "python",
   "pygments_lexer": "ipython3",
   "version": "3.9.12"
  },
  "orig_nbformat": 4,
  "vscode": {
   "interpreter": {
    "hash": "2f97d6bd82020baef37a77fbe972a7080695ae080256bd163ad511373799f513"
   }
  }
 },
 "nbformat": 4,
 "nbformat_minor": 2
}
