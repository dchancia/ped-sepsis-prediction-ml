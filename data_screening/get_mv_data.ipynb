{
 "cells": [
  {
   "cell_type": "code",
   "execution_count": 1,
   "metadata": {},
   "outputs": [],
   "source": [
    "# Import libraries and packages\n",
    "import pandas as pd\n",
    "import numpy as np\n",
    "import os\n",
    "import math\n",
    "from datetime import datetime, timedelta\n",
    "from scipy import stats\n",
    "import matplotlib.pyplot as plt\n",
    "import warnings\n",
    "warnings.filterwarnings(\"ignore\")"
   ]
  },
  {
   "cell_type": "markdown",
   "metadata": {},
   "source": [
    "### 1. Extract MV Events from ETT Files"
   ]
  },
  {
   "attachments": {},
   "cell_type": "markdown",
   "metadata": {},
   "source": [
    "1. Identify hospital visits.\n",
    "2. Assign corresponding CSN to ETT file entries.\n",
    "3. Select patients with endotracheal tube."
   ]
  },
  {
   "cell_type": "code",
   "execution_count": 2,
   "metadata": {},
   "outputs": [],
   "source": [
    "# Load encounters file\n",
    "dept_path = '/labs/kamaleswaranlab/ECMO/new_data/TAB2_Encounter_Departments.parquet.gzip'\n",
    "dept = pd.read_parquet(dept_path)\n",
    "dept[['BIRTH_DATE', 'Hosp_Admission', 'Hosp_Discharge', 'Entered_Dept', 'Exited_Dept']] = dept[['BIRTH_DATE', 'Hosp_Admission', 'Hosp_Discharge', 'Entered_Dept', 'Exited_Dept']].apply(pd.to_datetime)\n",
    "dept = dept[['Pat ID', 'Encounter CSN', 'Name', 'BIRTH_DATE', 'Department', 'Entered_Dept', 'Exited_Dept', 'Hosp_Admission', 'Hosp_Discharge']]\n",
    "dept.columns = ['patid', 'csn', 'name', 'dob', 'department', 'entered_dept', 'exited_dept', 'hosp_adm', 'hosp_disch']\n",
    "dept = dept[(dept['department'].str.contains('PEDIATRIC ICU')) & (dept['hosp_adm'] >= '2010-01-01')]\n",
    "dept['csn'] = dept['csn'].astype(int)\n",
    "dept.dropna(inplace=True)\n",
    "dept.drop_duplicates(inplace=True)\n",
    "\n",
    "# Load ETT file\n",
    "ett_path = '/labs/kamaleswaranlab/ECMO/new_data/TAB6_ETTs_and_Trachs.parquet.gzip'\n",
    "mv_ett = pd.read_parquet(ett_path)\n",
    "mv_ett.columns = ['patid', 'name', 'dob', 'mrn', 'lda_type', 'placement_date', 'removal_date', 'lda_in_place']\n",
    "mv_ett[['dob', 'placement_date', 'removal_date']] = mv_ett[['dob', 'placement_date', 'removal_date']].apply(pd.to_datetime)\n",
    "mv_ett = mv_ett.merge(dept[['patid', 'csn', 'hosp_adm', 'hosp_disch']], how='inner', on='patid')\n",
    "mv_ett = mv_ett[(mv_ett['placement_date'] >= mv_ett['hosp_adm']) & (mv_ett['placement_date'] <= mv_ett['hosp_disch']) & (mv_ett['placement_date'] >= '2010-01-01')]\n",
    "\n",
    "# Create list of CSNs with tracheostomy tube\n",
    "trach_list = mv_ett.loc[mv_ett['lda_type'] == 'Tracheostomy Tube', 'csn'].unique().tolist()\n",
    "\n",
    "# Filter patients with endotracheal tube\n",
    "mv_ett = mv_ett[mv_ett['lda_type'] == 'Endotracheal Tube']\n",
    "mv_ett.dropna(inplace=True)\n",
    "mv_ett.reset_index(drop=True, inplace=True)\n",
    "\n",
    "# Organize data\n",
    "mv_ett = mv_ett[['patid', 'csn', 'dob', 'placement_date']]\n",
    "mv_ett['variable_id'] = 1\n",
    "mv_ett['variable_name'] = 'mv_indicator'\n",
    "mv_ett['value'] = 1\n",
    "mv_ett = mv_ett[['patid', 'csn', 'dob', 'variable_id', 'variable_name', 'placement_date', 'value']]\n",
    "mv_ett.columns = ['patid', 'csn', 'dob', 'variable_id', 'variable_name', 'recorded_time', 'value']"
   ]
  },
  {
   "attachments": {},
   "cell_type": "markdown",
   "metadata": {},
   "source": [
    "### 2. Extract MV Events from Flowsheets"
   ]
  },
  {
   "cell_type": "markdown",
   "metadata": {},
   "source": [
    "1. Extract mechanical ventilation indicators from flowsheets"
   ]
  },
  {
   "cell_type": "code",
   "execution_count": 3,
   "metadata": {},
   "outputs": [
    {
     "name": "stdout",
     "output_type": "stream",
     "text": [
      "Extracting data from Flowsheet_Rows_2010.parquet.gzip file...\n",
      "Extracting data from Flowsheet_Rows_2011.parquet.gzip file...\n",
      "Extracting data from Flowsheet_Rows_2012.parquet.gzip file...\n",
      "Extracting data from Flowsheet_Rows_2013.parquet.gzip file...\n",
      "Extracting data from Flowsheet_Rows_2014.parquet.gzip file...\n",
      "Extracting data from Flowsheet_Rows_2015.parquet.gzip file...\n",
      "Extracting data from Flowsheet_Rows_2016.parquet.gzip file...\n",
      "Extracting data from Flowsheet_Rows_2017.parquet.gzip file...\n",
      "Extracting data from Flowsheet_Rows_2018.parquet.gzip file...\n",
      "Extracting data from Flowsheet_Rows_2019.parquet.gzip file...\n",
      "Extracting data from Flowsheet_Rows_2020.parquet.gzip file...\n",
      "Extracting data from Flowsheet_Rows_2021.parquet.gzip file...\n",
      "Extracting data from Flowsheet_Rows_2022.parquet.gzip file...\n",
      "Creating dataframe...\n"
     ]
    }
   ],
   "source": [
    "# Create Dictionary with mechanical ventilation variable names \n",
    "mv_vars = ['Apparatus Type', #2060226\n",
    "           'Type of Mechanical Ventilation', #2060652\n",
    "           'Ventilator Type', #21000019\n",
    "           'Vent Mode', #21000002\n",
    "           'Mechanical Vent Initial', #2060659\n",
    "           'Vent Subsequent Day Charge', #2060615\n",
    "           'Airway Type', #2060451\n",
    "           'ETT Placement Confirmation', #2060455\n",
    "           'ETT Retape Date', #2060466\n",
    "           'Is the Patient Intubated?', #2058125\n",
    "           'Respiratory MAP Source', #2060635\n",
    "           'Ventilator Disconnect Reason', #2060639\n",
    "           'Ventilator Mode', #2060202\n",
    "           'Monitored CO2 (ETCO2)' #2060501\n",
    "           ]\n",
    "\n",
    "# List of flowsheets\n",
    "fs_list = list(filter(lambda x: '.parquet' in x, os.listdir('/labs/kamaleswaranlab/ECMO/new_data/new_flowsheets_feb23')))\n",
    "\n",
    "# Loop through flowsheets to extract mechanical ventilator indicators\n",
    "vars_data = []\n",
    "for filename in fs_list:\n",
    "    print('Extracting data from {} file...'.format(filename))\n",
    "    df = pd.read_parquet(os.path.join('/labs/kamaleswaranlab/ECMO/new_data/new_flowsheets_feb23', filename))\n",
    "    df.columns = ['patid',\t'csn', 'dob', 'template_id', 'template', 'variable_id',\t'variable_name', 'recorded_time', 'value', 'comment']\n",
    "    df = df[['patid', 'csn', 'dob', 'template', 'variable_name', 'recorded_time', 'value']]\n",
    "    df['csn'] = df['csn'].astype(int)\n",
    "    vars_data.extend(df[df['variable_name'].isin(mv_vars)].values)\n",
    "\n",
    "# Create dataframe\n",
    "print('Creating dataframe...')\n",
    "mv_fs = pd.DataFrame(vars_data, columns=['patid', 'csn', 'dob', 'template', 'variable_name', 'recorded_time', 'value'])\n",
    "mv_fs[['dob', 'recorded_time']] = mv_fs[['dob', 'recorded_time']].apply(pd.to_datetime)\n",
    "mv_fs.reset_index(drop=True, inplace=True)\n",
    "\n",
    "# Save dataset file\n",
    "mv_fs.to_parquet('/labs/kamaleswaranlab/dchanci/data/pediatric_sepsis/prediction_ml/updated_data/data_screening/mv_indicators_raw.parquet.gzip', compression='gzip')"
   ]
  },
  {
   "attachments": {},
   "cell_type": "markdown",
   "metadata": {},
   "source": [
    "2. Filter mechanical ventilation indicators from flowhsheets."
   ]
  },
  {
   "cell_type": "code",
   "execution_count": 5,
   "metadata": {},
   "outputs": [],
   "source": [
    "# Load mechanical ventilation indicators\n",
    "mv_fs = pd.read_parquet('/labs/kamaleswaranlab/dchanci/data/pediatric_sepsis/prediction_ml/updated_data/data_screening/mv_indicators_raw.parquet.gzip')\n",
    "mv_fs[['dob', 'recorded_time']] = mv_fs[['dob', 'recorded_time']].apply(pd.to_datetime)\n",
    "mv_fs['csn'] = mv_fs['csn'].astype(int)\n",
    "mv_fs = mv_fs[mv_fs['csn'].isin(dept['csn'].unique().tolist())]\n",
    "\n",
    "# Create list of CSNs with tracheostomy tube\n",
    "trach_list.extend(mv_fs.loc[((mv_fs['variable_name'] == 'Apparatus Type') | (mv_fs['variable_name'] == 'Mechanical Vent Initial')) & (mv_fs['value'].str.contains('Trach')), 'csn'].unique().tolist()) \n",
    "mv_fs.dropna(subset='value', inplace=True)\n",
    "\n",
    "# Filter apparatus type\n",
    "keep = ['OETT', 'ETT']\n",
    "keep = list(np.hstack([list(filter(lambda x: val in x, mv_fs.loc[mv_fs['variable_name'] == 'Apparatus Type', 'value'].unique().tolist())) for val in keep]))\n",
    "discard = [x for x in mv_fs.loc[mv_fs['variable_name'] == 'Apparatus Type', 'value'].unique().tolist() if x not in keep]\n",
    "mv_fs = mv_fs[~((mv_fs['variable_name'] == 'Apparatus Type') & (mv_fs['value'].isin(discard)))] \n",
    "\n",
    "# Filter Type of Mechanical Ventilation\n",
    "discard = ['Non-Invasive Ventilator', 'AVAPS', 'NAVA']\n",
    "mv_fs = mv_fs[~((mv_fs['variable_name'] == 'Type of Mechanical Ventilation') & (mv_fs['value'].isin(discard)))] \n",
    "\n",
    "# Filter Ventilator Type\n",
    "keep = ['Servo i', 'Drager Apollo', 'Drager Infinity V500', 'Drager Baby Log', 'Drager Evita', 'Servo U']\n",
    "discard = [x for x in mv_fs.loc[mv_fs['variable_name'] == 'Ventilator Type', 'value'].unique().tolist() if x not in keep]\n",
    "mv_fs = mv_fs[~((mv_fs['variable_name'] == 'Ventilator Type') & (mv_fs['value'].isin(discard)))] \n",
    "\n",
    "# Filter Vent Mode\n",
    "mv_fs = mv_fs[~((mv_fs['variable_name'] == 'Vent Mode') & (mv_fs['value'] == 'Non-Invasive'))] \n",
    "\n",
    "# Filter Mechanical Vent Initial\n",
    "discard = ['Non-invasive Ventilator Initial Day', 'Off-Discontinued Vent', 'V/Trach', 'NV']\n",
    "mv_fs = mv_fs[~((mv_fs['variable_name'] == 'Mechanical Vent Initial') & (mv_fs['value'].isin(discard)))] \n",
    "\n",
    "# Filter Vent Subsequent Day Charge\n",
    "keep = ['Servo i', 'Drager Evita', 'SensorMedics (3100) B', 'Drager Baby Log', 'SensorMedics (3100) A', 'Drager Apollo', 'Drager Evita V 500', 'Drager Infinity C 500', 'Drager Infinity V500', 'Yes']\n",
    "discard = [x for x in mv_fs.loc[mv_fs['variable_name'] == 'Vent Subsequent Day Charge', 'value'].unique().tolist() if x not in keep]\n",
    "mv_fs = mv_fs[~((mv_fs['variable_name'] == 'Vent Subsequent Day Charge') & (mv_fs['value'].isin(discard)))] \n",
    "\n",
    "# Filter Airway Type\n",
    "keep = ['OETT', 'ETT', 'NETT', 'RAE']\n",
    "keep = list(np.hstack([list(filter(lambda x: val in x, mv_fs.loc[mv_fs['variable_name'] == 'Airway Type', 'value'].unique().tolist())) for val in keep]))\n",
    "discard = [x for x in mv_fs.loc[mv_fs['variable_name'] == 'Airway Type', 'value'].unique().tolist() if x not in keep]\n",
    "mv_fs = mv_fs[~((mv_fs['variable_name'] == 'Airway Type') & (mv_fs['value'].isin(discard)))] \n",
    "\n",
    "# Filter Is the Patient Intubated?\n",
    "discard = ['No Change', 'No']\n",
    "mv_fs = mv_fs[~((mv_fs['variable_name'] == 'Is the Patient Intubated?') & (mv_fs['value'].isin(discard)))] \n",
    "\n",
    "# Filter Ventilator Mode\n",
    "keep = ['SIMV', 'HFOV', 'PRVC', 'PS', 'VS', 'BiVent/APRV', 'VCV', 'IMV', 'Assist', 'Volume Guarantee', 'CMV', 'MMV', 'VG']\n",
    "keep = list(np.hstack([list(filter(lambda x: val in x, mv_fs.loc[mv_fs['variable_name'] == 'Ventilator Mode', 'value'].unique().tolist())) for val in keep]))\n",
    "discard = [x for x in mv_fs.loc[mv_fs['variable_name'] == 'Ventilator Mode', 'value'].unique().tolist() if x not in keep]\n",
    "mv_fs = mv_fs[~((mv_fs['variable_name'] == 'Ventilator Mode') & (mv_fs['value'].isin(discard)))] \n",
    "mv_fs.reset_index(drop=True, inplace=True)\n",
    "\n",
    "mv_fs = mv_fs[['patid', 'csn', 'dob', 'recorded_time']]\n",
    "mv_fs['variable_id'] = 1\n",
    "mv_fs['variable_name'] = 'mv_indicator'\n",
    "mv_fs['value'] = 1\n",
    "mv_fs = mv_fs[['patid', 'csn', 'dob', 'variable_id', 'variable_name', 'recorded_time', 'value']]"
   ]
  },
  {
   "cell_type": "markdown",
   "metadata": {},
   "source": [
    "### 3. Combine MV Events"
   ]
  },
  {
   "cell_type": "code",
   "execution_count": 6,
   "metadata": {},
   "outputs": [],
   "source": [
    "# Concat dataframes\n",
    "mv = pd.concat([mv_ett, mv_fs])\n",
    "\n",
    "# Discard CSNs with trach\n",
    "mv = mv[~(mv['csn'].isin(trach_list))]\n",
    "\n",
    "# Save file\n",
    "mv.to_parquet('/labs/kamaleswaranlab/dchanci/data/pediatric_sepsis/prediction_ml/updated_data/data_screening/mv_data.parquet.gzip', compression='gzip')"
   ]
  }
 ],
 "metadata": {
  "kernelspec": {
   "display_name": "cv_ml",
   "language": "python",
   "name": "python3"
  },
  "language_info": {
   "codemirror_mode": {
    "name": "ipython",
    "version": 3
   },
   "file_extension": ".py",
   "mimetype": "text/x-python",
   "name": "python",
   "nbconvert_exporter": "python",
   "pygments_lexer": "ipython3",
   "version": "3.9.12"
  },
  "orig_nbformat": 4,
  "vscode": {
   "interpreter": {
    "hash": "2f97d6bd82020baef37a77fbe972a7080695ae080256bd163ad511373799f513"
   }
  }
 },
 "nbformat": 4,
 "nbformat_minor": 2
}
