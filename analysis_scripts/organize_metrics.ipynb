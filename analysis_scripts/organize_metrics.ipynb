{
 "cells": [
  {
   "cell_type": "code",
   "execution_count": 1,
   "metadata": {},
   "outputs": [],
   "source": [
    "# Import libraries and packages\n",
    "import pandas as pd\n",
    "import numpy as np\n",
    "import os\n",
    "import math\n",
    "import tableone\n",
    "from datetime import datetime, timedelta\n",
    "from scipy import stats\n",
    "import matplotlib.pyplot as plt\n",
    "import warnings"
   ]
  },
  {
   "cell_type": "code",
   "execution_count": 2,
   "metadata": {},
   "outputs": [],
   "source": [
    "screening_method = 'inf_phoenix'\n",
    "save_folder = 'no_psofa'"
   ]
  },
  {
   "cell_type": "code",
   "execution_count": null,
   "metadata": {},
   "outputs": [],
   "source": [
    "metrics_internal = pd.read_csv(os.path.join('/home/dchanci/projects/ped_sepsis_prediction_ml/models/results_updated', screening_method, save_folder, 'sum_metrics_holdout_fixed.csv'))\n",
    "metrics_internal = metrics_internal.T\n",
    "\n",
    "metrics_external = pd.read_csv(os.path.join('/home/dchanci/projects/ped_sepsis_prediction_ml/models/results_updated', screening_method, save_folder, 'sum_metrics_external_fixed.csv'))\n",
    "metrics_external = metrics_external.T\n",
    "\n",
    "metrics_internal = pd.concat([metrics_internal, metrics_external], axis=1)\n",
    "metrics_internal.columns = metrics_internal.iloc[0]\n",
    "metrics_internal = metrics_internal.iloc[1:]\n",
    "metrics_internal.columns = [['Derivation', 'Derivation', 'Derivation', 'Derivation', 'Validation', 'Validation', 'Validation', 'Validation'], list(metrics_internal.columns)]\n",
    "\n",
    "metrics_internal.to_csv(os.path.join('/home/dchanci/projects/ped_sepsis_prediction_ml/models/results_updated', screening_method, save_folder, 'sum_metrics_fixed.csv'))\n",
    "\n",
    "metrics_internal"
   ]
  },
  {
   "cell_type": "code",
   "execution_count": null,
   "metadata": {},
   "outputs": [],
   "source": [
    "metrics_internal = pd.read_csv(os.path.join('/home/dchanci/projects/ped_sepsis_prediction_ml/models/results_updated', screening_method, save_folder, 'sum_metrics_holdout.csv'))\n",
    "metrics_internal = metrics_internal.T\n",
    "\n",
    "metrics_external = pd.read_csv(os.path.join('/home/dchanci/projects/ped_sepsis_prediction_ml/models/results_updated', screening_method, save_folder, 'sum_metrics_external.csv'))\n",
    "metrics_external = metrics_external.T\n",
    "\n",
    "metrics_internal = pd.concat([metrics_internal, metrics_external], axis=1)\n",
    "metrics_internal.columns = metrics_internal.iloc[0]\n",
    "metrics_internal = metrics_internal.iloc[1:]\n",
    "metrics_internal.columns = [['Derivation', 'Derivation', 'Derivation', 'Derivation', 'Validation', 'Validation', 'Validation', 'Validation'], list(metrics_internal.columns)]\n",
    "\n",
    "metrics_internal.to_csv(os.path.join('/home/dchanci/projects/ped_sepsis_prediction_ml/models/results_updated', screening_method, save_folder, 'sum_metrics.csv'))\n",
    "\n",
    "metrics_internal"
   ]
  }
 ],
 "metadata": {
  "kernelspec": {
   "display_name": "cv_ml",
   "language": "python",
   "name": "python3"
  },
  "language_info": {
   "codemirror_mode": {
    "name": "ipython",
    "version": 3
   },
   "file_extension": ".py",
   "mimetype": "text/x-python",
   "name": "python",
   "nbconvert_exporter": "python",
   "pygments_lexer": "ipython3",
   "version": "3.9.12"
  },
  "orig_nbformat": 4
 },
 "nbformat": 4,
 "nbformat_minor": 2
}
