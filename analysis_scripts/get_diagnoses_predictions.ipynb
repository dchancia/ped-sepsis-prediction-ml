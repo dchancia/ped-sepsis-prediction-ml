{
 "cells": [
  {
   "cell_type": "code",
   "execution_count": 1,
   "metadata": {},
   "outputs": [],
   "source": [
    "# Import libraries and packages\n",
    "import pandas as pd\n",
    "import numpy as np\n",
    "import warnings\n",
    "import os\n",
    "warnings.filterwarnings(\"ignore\")"
   ]
  },
  {
   "cell_type": "code",
   "execution_count": null,
   "metadata": {},
   "outputs": [],
   "source": [
    "# Load validation cohort\n",
    "cohort = pd.read_parquet('/labs/kamaleswaranlab/dchanci/data/pediatric_sepsis/prediction_ml/updated_data/data_models/dataset_agg_sr_inf_phoenix.parquet.gzip')\n",
    "\n",
    "# Load admitting diagnoses\n",
    "adm_diag = pd.read_parquet('/labs/kamaleswaranlab/ECMO/new_data/TAB5_Admitting_Diagnoses.parquet.gzip')\n",
    "adm_diag.columns = ['patid', 'name', 'dob', 'mrn', 'csn', 'icd9', 'icd10', 'diagnosis', 'admission_date']\n",
    "adm_diag.dropna(subset=['diagnosis'], inplace=True)\n",
    "adm_diag = adm_diag[adm_diag['csn'].isin(cohort['csn'].unique().tolist())]"
   ]
  },
  {
   "cell_type": "code",
   "execution_count": 3,
   "metadata": {},
   "outputs": [],
   "source": [
    "# Add flags\n",
    "adm_diag['Sepsis'] = 0\n",
    "adm_diag.loc[adm_diag['diagnosis'].str.contains('sepsis|septicemia', case=False, na=False), 'Sepsis'] = 1\n",
    "\n",
    "adm_diag['Septic Shock'] = 0\n",
    "adm_diag.loc[(adm_diag['diagnosis'].str.contains('septic shock', case=False, na=False)) & \n",
    "            ~(adm_diag['diagnosis'].str.contains('septicemia|without', case=False, na=False)), 'Septic Shock'] = 1\n",
    "\n",
    "adm_diag['Sickle Cell Disease'] = 0\n",
    "adm_diag.loc[adm_diag['diagnosis'].str.contains('sickle', case=False, na=False), 'Sickle Cell Disease'] = 1\n",
    "\n",
    "adm_diag['Diabetic Ketoacidosis'] = 0\n",
    "adm_diag.loc[(adm_diag['diagnosis'].str.contains('diabetes', case=False, na=False)) &\n",
    "            (adm_diag['diagnosis'].str.contains('ketoacidosis', case=False, na=False)), 'Diabetic Ketoacidosis'] = 1\n",
    "\n",
    "adm_diag['Asthmaticus'] = 0\n",
    "adm_diag.loc[adm_diag['diagnosis'].str.contains('asthmaticus', case=False, na=False), 'Asthmaticus'] = 1\n",
    "\n",
    "adm_diag['Kidney Failure'] = 0\n",
    "adm_diag.loc[adm_diag['diagnosis'].str.contains('kidney disease|kidney failure', case=False, na=False), 'Kidney Failure'] = 1"
   ]
  },
  {
   "cell_type": "code",
   "execution_count": null,
   "metadata": {},
   "outputs": [],
   "source": [
    "adm_diag.to_parquet('/labs/kamaleswaranlab/dchanci/data/pediatric_sepsis/prediction_ml/updated_data/data_analysis/adm_diag_predictions.parquet.gzip', compression='gzip')\n",
    "adm_diag.head()"
   ]
  }
 ],
 "metadata": {
  "kernelspec": {
   "display_name": "cv_ml",
   "language": "python",
   "name": "python3"
  },
  "language_info": {
   "codemirror_mode": {
    "name": "ipython",
    "version": 3
   },
   "file_extension": ".py",
   "mimetype": "text/x-python",
   "name": "python",
   "nbconvert_exporter": "python",
   "pygments_lexer": "ipython3",
   "version": "3.9.12"
  },
  "orig_nbformat": 4
 },
 "nbformat": 4,
 "nbformat_minor": 2
}
