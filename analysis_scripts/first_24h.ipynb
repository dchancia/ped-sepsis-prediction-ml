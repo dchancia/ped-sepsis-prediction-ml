{
 "cells": [
  {
   "cell_type": "code",
   "execution_count": 12,
   "metadata": {},
   "outputs": [],
   "source": [
    "# Import libraries and packages\n",
    "import pandas as pd\n",
    "import numpy as np\n",
    "import os\n",
    "import math\n",
    "from datetime import datetime, timedelta\n",
    "from scipy import stats\n",
    "from scipy.stats import skew, kurtosis\n",
    "import matplotlib.pyplot as plt\n",
    "import warnings\n",
    "import random\n",
    "warnings.filterwarnings(\"ignore\")"
   ]
  },
  {
   "cell_type": "code",
   "execution_count": 13,
   "metadata": {},
   "outputs": [],
   "source": [
    "# Define variables\n",
    "path = '/labs/kamaleswaranlab/dchanci/data/pediatric_sepsis/prediction_ml/updated_data/data_screening'\n",
    "department = 'EG PEDIATRIC ICU' \n",
    "campus = 'eg'"
   ]
  },
  {
   "cell_type": "code",
   "execution_count": 14,
   "metadata": {},
   "outputs": [
    {
     "name": "stdout",
     "output_type": "stream",
     "text": [
      "Loading encounters...\n",
      "Loading complete cohort...\n",
      "Unique CSN total: 63877\n"
     ]
    }
   ],
   "source": [
    "# Load encounters file\n",
    "print('Loading encounters...')\n",
    "dept_path = '/labs/kamaleswaranlab/ECMO/new_data/TAB2_Encounter_Departments.parquet.gzip'\n",
    "dept = pd.read_parquet(dept_path)\n",
    "dept[['BIRTH_DATE', 'Hosp_Admission', 'Hosp_Discharge', 'Entered_Dept', 'Exited_Dept']] = dept[['BIRTH_DATE', 'Hosp_Admission', 'Hosp_Discharge', 'Entered_Dept', 'Exited_Dept']].apply(pd.to_datetime)\n",
    "dept = dept[['Pat ID', 'Encounter CSN', 'Name', 'BIRTH_DATE', 'Department', 'Entered_Dept', 'Exited_Dept', 'Hosp_Admission', 'Hosp_Discharge']]\n",
    "dept.columns = ['patid', 'csn', 'name', 'dob', 'department', 'entered_dept', 'exited_dept', 'hosp_adm', 'hosp_disch']\n",
    "dept = dept[(dept['department'].str.contains('PEDIATRIC ICU')) & (dept['hosp_adm'] >= '2010-01-01')]\n",
    "dept['csn'] = dept['csn'].astype(int)\n",
    "dept.dropna(inplace=True)\n",
    "dept.drop_duplicates(inplace=True)\n",
    "\n",
    "dept_first = dept.sort_values(by=['csn', 'hosp_adm', 'entered_dept'])\n",
    "dept_first = dept_first.groupby('csn', as_index=False).first()\n",
    "\n",
    "# Load complete cohort\n",
    "print('Loading complete cohort...')\n",
    "cohort = pd.read_csv(os.path.join(path, 'complete_cohort.csv'))\n",
    "cohort = cohort[['patid', 'mrn', 'csn', 'dob']]\n",
    "cohort['csn'] = cohort['csn'].astype(int)\n",
    "cohort = cohort.merge(dept_first[['csn', 'department', 'entered_dept', 'exited_dept', 'hosp_adm', 'hosp_disch']], how='inner', on='csn')\n",
    "cohort.drop_duplicates(inplace=True)\n",
    "\n",
    "print('Unique CSN total:', len(cohort['csn'].unique().tolist()))"
   ]
  },
  {
   "cell_type": "markdown",
   "metadata": {},
   "source": [
    "### Filter data"
   ]
  },
  {
   "cell_type": "code",
   "execution_count": 15,
   "metadata": {},
   "outputs": [
    {
     "name": "stdout",
     "output_type": "stream",
     "text": [
      "Loading data...\n"
     ]
    },
    {
     "name": "stdout",
     "output_type": "stream",
     "text": [
      "Adding hospital admission and department...\n",
      "Fixing blood pressure...\n",
      "Unique CSN total: 28290\n"
     ]
    }
   ],
   "source": [
    "# Load data\n",
    "print('Loading data...')\n",
    "variables = pd.read_parquet('/labs/kamaleswaranlab/dchanci/data/pediatric_sepsis/prediction_ml/updated_data/data_models/raw_features.parquet.gzip')\n",
    "variables[['dob', 'recorded_time']] = variables[['dob', 'recorded_time']].apply(pd.to_datetime)\n",
    "variables[['csn', 'variable_id']] = variables[['csn', 'variable_id']].astype(int)\n",
    "variables.dropna(subset=['value'], inplace=True)\n",
    "variables = variables[~((variables['variable_name'] == 'BP') & ~(variables['value'].str.contains(\"/\", case=False)))]\n",
    "\n",
    "# Load meds\n",
    "meds = pd.read_parquet('/labs/kamaleswaranlab/dchanci/data/pediatric_sepsis/prediction_ml/updated_data/data_screening/filtered_meds.parquet.gzip')\n",
    "meds[['dob', 'mar_time']] = meds[['dob', 'mar_time']].apply(pd.to_datetime)\n",
    "meds['csn'] = meds['csn'].astype(int)\n",
    "meds = meds[(meds['csn'].isin(variables['csn'].unique().tolist())) & (meds['dose_unit'] == 'mcg/kg/min') & \n",
    "        (meds['med'].str.contains('epinephrine|dopamine', case=False))]\n",
    "meds = meds[['patid', 'csn', 'dob', 'med_id', 'med', 'mar_time', 'dose']]\n",
    "meds.columns = ['patid', 'csn', 'dob', 'variable_id', 'variable_name', 'recorded_time', 'value']\n",
    "meds.loc[(meds['variable_name'].str.contains(\"epinephrine\", case=False)) & ~(meds['variable_name'].str.contains(\"norepinephrine\", case=False)), 'variable_name'] = 'epinephrine'\n",
    "meds.loc[meds['variable_name'].str.contains(\"norepinephrine\", case=False), 'variable_name'] = 'norepinephrine'\n",
    "meds.loc[meds['variable_name'].str.contains(\"dopamine\", case=False), 'variable_name'] = 'dopamine'\n",
    "meds.reset_index(inplace=True, drop=True)\n",
    "variables = pd.concat([variables, meds])\n",
    "\n",
    "# Add resp support data\n",
    "resp = pd.read_parquet('/labs/kamaleswaranlab/dchanci/data/pediatric_sepsis/prediction_ml/updated_data/data_screening/resp_data.parquet.gzip')\n",
    "resp['csn'] = resp['csn'].astype(int)\n",
    "resp = resp[resp['csn'].isin(variables['csn'].unique().tolist())]\n",
    "resp[['dob', 'recorded_time']] = resp[['dob', 'recorded_time']].apply(pd.to_datetime)\n",
    "variables = pd.concat([variables, resp])\n",
    "\n",
    "# Add hospital admission and department\n",
    "print('Adding hospital admission and department...')\n",
    "variables = pd.merge(variables, cohort[['csn', 'hosp_adm', 'department']], on='csn', how='inner')\n",
    "variables = variables[['patid', 'csn', 'dob', 'hosp_adm', 'department', 'variable_id', 'variable_name', 'recorded_time', 'value']]\n",
    "variables = variables[variables['department'] == department] \n",
    "variables.reset_index(drop=True, inplace=True)\n",
    "\n",
    "# Gather data within first day of the stay\n",
    "variables['rel_day'] = np.ceil((variables['recorded_time'] - variables['hosp_adm']) / pd.Timedelta('1 day'))\n",
    "variables = variables[variables['rel_day'] == 1]\n",
    "variables.drop('rel_day', axis=1, inplace=True)\n",
    "\n",
    "# Fix blood pressure\n",
    "print('Fixing blood pressure...')\n",
    "sysbp = variables[variables['variable_name'] == 'BP']\n",
    "sysbp['variable_id'] = 1\n",
    "sysbp['variable_name'] = 'bp_sys'\n",
    "sysbp['value'] = sysbp['value'].apply(lambda x: float(x.split('/')[0]))\n",
    "variables.loc[variables['variable_name'] == 'BP', 'variable_name'] = 'bp_dias'\n",
    "variables.loc[variables['variable_name'] == 'bp_dias', 'value'] = variables.loc[variables['variable_name'] == 'bp_dias', 'value'].apply(lambda x: float(x.split('/')[1]))\n",
    "variables = pd.concat([variables, sysbp])\n",
    "variables.dropna(subset=['value'], inplace=True)\n",
    "variables.reset_index(drop=True, inplace=True)\n",
    "\n",
    "print('Unique CSN total:', len(variables['csn'].unique().tolist()))"
   ]
  },
  {
   "cell_type": "markdown",
   "metadata": {},
   "source": [
    "### Clean and preprocess data"
   ]
  },
  {
   "cell_type": "code",
   "execution_count": 16,
   "metadata": {},
   "outputs": [
    {
     "name": "stdout",
     "output_type": "stream",
     "text": [
      "Changing variables names...\n"
     ]
    }
   ],
   "source": [
    "# Change some variables names. Similar variables will have the same name\n",
    "print('Changing variables names...')\n",
    "variables.loc[variables['variable_name'] == 'Weight', 'variable_name'] = 'weight'\n",
    "variables.loc[variables['variable_name'] == 'Volume Infused (mL)', 'variable_name'] = 'vol_infused'\n",
    "variables.loc[variables['variable_name'] == 'Urine (mL)', 'variable_name'] = 'urine'\n",
    "variables.loc[variables['variable_name'] == 'Code Sheet Weight (kg)', 'variable_name'] = 'weight'\n",
    "variables.loc[variables['variable_name'] == 'Pulse', 'variable_name'] = 'pulse'\n",
    "variables.loc[variables['variable_name'] == 'MAP', 'variable_name'] = 'map'\n",
    "variables.loc[variables['variable_name'] == 'ABP MAP', 'variable_name'] = 'map'\n",
    "variables.loc[variables['variable_name'] == 'ART MAP', 'variable_name'] = 'map'\n",
    "variables.loc[variables['variable_name'] == 'Resp', 'variable_name'] = 'resp'\n",
    "variables.loc[variables['variable_name'] == 'SpO2', 'variable_name'] = 'spo2'\n",
    "variables.loc[variables['variable_name'] == 'Perfused Pulse (SpO2)', 'variable_name'] = 'spo2'\n",
    "variables.loc[variables['variable_name'] == 'Temp', 'variable_name'] = 'temp'\n",
    "variables.loc[variables['variable_name'] == 'FiO2 (%)', 'variable_name'] = 'fio2'\n",
    "variables.loc[variables['variable_name'] == 'PaO2/FiO2 (Calculated)', 'variable_name'] = 'pao2_fio2'\n",
    "variables.loc[variables['variable_name'] == 'Pupil Left Reaction', 'variable_name'] = 'pupil_left_reaction'\n",
    "variables.loc[variables['variable_name'] == 'Pupil Left Size', 'variable_name'] = 'pupil_left_size'\n",
    "variables.loc[variables['variable_name'] == 'Pupil Right Reaction', 'variable_name'] = 'pupil_right_reaction'\n",
    "variables.loc[variables['variable_name'] == 'Pupil Right Size', 'variable_name'] = 'pupil_right_size'\n",
    "variables.loc[variables['variable_name'] == 'Coma Scale Total', 'variable_name'] = 'coma_scale_total'\n",
    "variables.loc[variables['variable_name'] == 'Oxygen Flow (lpm)', 'variable_name'] = 'o2_flow'\n",
    "variables.loc[variables['variable_name'] == 'POC pH', 'variable_name'] = 'ph'\n",
    "variables.loc[variables['variable_name'] == 'POC PO2', 'variable_name'] = 'po2'\n",
    "variables.loc[variables['variable_name'] == 'ARTERIAL POC PO2', 'variable_name'] = 'po2'\n",
    "variables.loc[variables['variable_name'] == 'CAPILLARY POC PO2', 'variable_name'] = 'po2'\n",
    "variables.loc[variables['variable_name'] == 'VENOUS POC PO2', 'variable_name'] = 'po2'\n",
    "variables.loc[variables['variable_name'] == 'POC PCO2', 'variable_name'] = 'pco2'\n",
    "variables.loc[variables['variable_name'] == 'ARTERIAL POC PCO2', 'variable_name'] = 'pco2'\n",
    "variables.loc[variables['variable_name'] == 'CAPILLARY POC PCO2', 'variable_name'] = 'pco2'\n",
    "variables.loc[variables['variable_name'] == 'VENOUS POC PCO2', 'variable_name'] = 'pco2'\n",
    "variables.loc[variables['variable_name'] == 'POTASSIUM', 'variable_name'] = 'potassium'\n",
    "variables.loc[variables['variable_name'] == 'SODIUM', 'variable_name'] = 'sodium'\n",
    "variables.loc[variables['variable_name'] == 'CHLORIDE', 'variable_name'] = 'chloride'\n",
    "variables.loc[variables['variable_name'] == 'POC GLUCOSE', 'variable_name'] = 'glucose'\n",
    "variables.loc[variables['variable_name'] == 'GLUCOSE', 'variable_name'] = 'glucose'\n",
    "variables.loc[variables['variable_name'] == 'BUN', 'variable_name'] = 'bun'\n",
    "variables.loc[variables['variable_name'] == 'CREATININE', 'variable_name'] = 'creatinine'\n",
    "variables.loc[variables['variable_name'] == 'CALCIUM', 'variable_name'] = 'calcium'\n",
    "variables.loc[variables['variable_name'] == 'POC CALCIUM IONIZED', 'variable_name'] = 'calcium_ionized'\n",
    "variables.loc[variables['variable_name'] == 'CO2', 'variable_name'] = 'co2'\n",
    "variables.loc[variables['variable_name'] == 'HEMOGLOBIN', 'variable_name'] = 'hemoglobin'\n",
    "variables.loc[variables['variable_name'] == 'BILIRUBIN TOTAL', 'variable_name'] = 'bilirubin_total'\n",
    "variables.loc[variables['variable_name'] == 'ALBUMIN', 'variable_name'] = 'albumin'\n",
    "variables.loc[variables['variable_name'] == 'WBC', 'variable_name'] = 'wbc'\n",
    "variables.loc[variables['variable_name'] == 'PLATELETS', 'variable_name'] = 'platelets'\n",
    "variables.loc[variables['variable_name'] == 'PTT', 'variable_name'] = 'ptt'\n",
    "variables.loc[variables['variable_name'] == 'PTT.', 'variable_name'] = 'ptt'\n",
    "variables.loc[variables['variable_name'] == 'ARTERIAL BASE EXCESS', 'variable_name'] = 'base_excess'\n",
    "variables.loc[variables['variable_name'] == 'VENOUS BASE EXCESS', 'variable_name'] = 'base_excess'\n",
    "variables.loc[variables['variable_name'] == 'CAP BASE EXCESS', 'variable_name'] = 'base_excess'\n",
    "variables.loc[variables['variable_name'] == 'ART BASE DEFICIT', 'variable_name'] = 'base_deficit'\n",
    "variables.loc[variables['variable_name'] == 'VENOUS BASE DEFICIT', 'variable_name'] = 'base_deficit'\n",
    "variables.loc[variables['variable_name'] == 'CAP BASE DEFICIT', 'variable_name'] = 'base_deficit'\n",
    "variables.loc[variables['variable_name'] == 'HCO3', 'variable_name'] = 'bicarbonate'\n",
    "variables.loc[variables['variable_name'] == 'LACTIC ACID', 'variable_name'] = 'lactic_acid'\n",
    "variables.loc[variables['variable_name'] == 'POC LACTIC ACID', 'variable_name'] = 'lactic_acid'\n",
    "variables.loc[variables['variable_name'] == 'LACTIC ACID WHOLE BLOOD', 'variable_name'] = 'lactic_acid'\n",
    "variables.loc[variables['variable_name'] == 'BAND NEUTROPHILS % (MANUAL)', 'variable_name'] = 'band_neutrophils'\n",
    "variables.loc[variables['variable_name'] == 'ARTERIAL POC PH', 'variable_name'] = 'ph'\n",
    "variables.loc[variables['variable_name'] == 'CAPILLARY POC PH', 'variable_name'] = 'ph'\n",
    "variables.loc[variables['variable_name'] == 'VENOUS POC PH', 'variable_name'] = 'ph'\n",
    "variables.loc[variables['variable_name'] == 'ALT (SGPT)', 'variable_name'] = 'alt'\n",
    "variables.loc[variables['variable_name'] == 'AST (SGOT)', 'variable_name'] = 'ast'\n",
    "variables.loc[variables['variable_name'] == 'INT NORM RATIO', 'variable_name'] = 'inr'\n",
    "variables.loc[variables['variable_name'] == 'PROTIME', 'variable_name'] = 'pt'\n",
    "variables.drop(['variable_id'], axis=1, inplace=True)"
   ]
  },
  {
   "cell_type": "code",
   "execution_count": 17,
   "metadata": {},
   "outputs": [
    {
     "name": "stdout",
     "output_type": "stream",
     "text": [
      "Fixing pupillary reaction...\n",
      "Dropping invalid observations...\n",
      "Unique CSN total: 28290\n"
     ]
    }
   ],
   "source": [
    "# Fix pupillary reaction\n",
    "print('Fixing pupillary reaction...')\n",
    "variables.loc[(variables['variable_name'].isin(['pupil_left_reaction', 'pupil_right_reaction'])) & (variables['value'].isin(['Brisk', 'Sluggish', 'Hippus'])), 'value'] = 'Reactive'\n",
    "variables.loc[(variables['variable_name'].isin(['pupil_left_reaction', 'pupil_right_reaction'])) & (variables['value'].isin(['Non-reactive'])), 'value'] = 'Non-reactive'\n",
    "variables.loc[(variables['variable_name'].isin(['pupil_left_reaction', 'pupil_right_reaction'])) & (variables['value'].isin(['Unable to assess', 'Pinpoint', 'No eye', 'Pharmacologically dilated', 'Keyhole', 'Ovoid', 'Ovid'])), 'value'] = 'Unable to Assess'\n",
    "\n",
    "# Fix pupil size\n",
    "variables.loc[variables['variable_name'].isin(['pupil_left_size', 'pupil_right_size']), 'value'] = variables.loc[variables['variable_name'].isin(['pupil_left_size', 'pupil_right_size']), 'value'].apply(lambda x: x[:-2])\n",
    "\n",
    "# Numerical variables\n",
    "print('Dropping invalid observations...')\n",
    "num_vars = ['weight', 'pulse', 'map', 'bp_sys', 'bp_dias', 'resp', 'spo2', 'temp', 'fio2', 'pao2_fio2', 'pupil_left_size', \n",
    "            'pupil_right_size', 'coma_scale_total', 'o2_flow', 'ph', 'po2', 'pco2', 'potassium',\n",
    "            'sodium', 'chloride', 'glucose', 'bun', 'creatinine', 'calcium', 'calcium_ionized', 'co2', 'hemoglobin',\n",
    "            'bilirubin_total', 'albumin', 'wbc', 'platelets', 'ptt', 'base_excess', 'bicarbonate', 'lactic_acid',\n",
    "            'base_deficit', 'vol_infused', 'urine']\n",
    "num_vars_extra = num_vars.copy()\n",
    "num_vars_extra.extend(['band_neutrophils', 'alt', 'ast', 'pt', 'inr', 'epinephrine', 'norepinephrine', 'dopamine', 'resp_indicator'])\n",
    "\n",
    "# Categorical variables\n",
    "cat_vars = ['pupil_left_reaction', 'pupil_right_reaction']\n",
    "\n",
    "# Check that all values are numbers for numerical variables\n",
    "variables = variables[(variables['value'].apply(lambda x: str(x).replace(\".\", \"\", 1).isdigit())) | (variables['variable_name'].isin(cat_vars))]\n",
    "variables.loc[variables['variable_name'].isin(num_vars_extra), 'value'] = variables.loc[variables['variable_name'].isin(num_vars_extra), 'value'].astype(float)\n",
    "variables.dropna(subset=['value'], inplace=True)\n",
    "variables.reset_index(drop=True, inplace=True)\n",
    "\n",
    "print('Unique CSN total:', len(variables['csn'].unique().tolist()))"
   ]
  },
  {
   "cell_type": "markdown",
   "metadata": {},
   "source": [
    "### Preprocess"
   ]
  },
  {
   "cell_type": "code",
   "execution_count": 18,
   "metadata": {},
   "outputs": [
    {
     "name": "stdout",
     "output_type": "stream",
     "text": [
      "Data wrangling and generation of flags...\n",
      "Unique CSN total: 28290\n"
     ]
    }
   ],
   "source": [
    "# Data wrangling and imputation\n",
    "print('Data wrangling and generation of flags...')\n",
    "\n",
    "# Pivot data\n",
    "variables = pd.pivot_table(variables, values='value', index=['patid', 'csn', 'dob', 'hosp_adm', 'department', 'recorded_time'], columns=['variable_name'], aggfunc=(lambda x: x.iloc[0]), fill_value=np.nan)\n",
    "variables.reset_index(inplace=True)\n",
    "variables[['dob', 'hosp_adm', 'recorded_time']] = variables[['dob', 'hosp_adm', 'recorded_time']].apply(pd.to_datetime)\n",
    "\n",
    "# Create column with relative time\n",
    "variables.insert(6, 'rel_time', np.nan)\n",
    "variables['rel_time'] = np.ceil((variables['recorded_time'] - variables['hosp_adm']) / pd.Timedelta('1 hour'))\n",
    "variables = variables[variables['rel_time'] > 0]\n",
    "variables.sort_values(by=['csn', 'rel_time'], inplace=True)\n",
    "print('Unique CSN total:', len(variables['csn'].unique().tolist()))"
   ]
  },
  {
   "cell_type": "code",
   "execution_count": 19,
   "metadata": {},
   "outputs": [
    {
     "name": "stdout",
     "output_type": "stream",
     "text": [
      "Unique CSN total: 28290\n"
     ]
    }
   ],
   "source": [
    "# Resample data\n",
    "agg_dict = {}\n",
    "for col in variables.columns:\n",
    "    if col in num_vars_extra:\n",
    "        agg_dict[col] = pd.NamedAgg(column=col, aggfunc='median')\n",
    "    else:\n",
    "        agg_dict[col] = pd.NamedAgg(column=col, aggfunc='last')\n",
    "\n",
    "variables = variables.groupby(['patid', 'csn', 'dob', 'hosp_adm', 'department', 'rel_time'], as_index=False).agg(**agg_dict)\n",
    "variables.sort_values(by=['csn', 'rel_time'], inplace=True)\n",
    "variables.reset_index(drop=True, inplace=True)\n",
    "print('Unique CSN total:', len(variables['csn'].unique().tolist()))"
   ]
  },
  {
   "cell_type": "code",
   "execution_count": 20,
   "metadata": {},
   "outputs": [
    {
     "name": "stdout",
     "output_type": "stream",
     "text": [
      "Unique CSN total: 28290\n"
     ]
    }
   ],
   "source": [
    "# Create rows for missing hours\n",
    "hours_list = []\n",
    "csn_list = []\n",
    "variables['rel_time'] = variables['rel_time'].astype(int)\n",
    "\n",
    "for csn in variables['csn'].unique().tolist():\n",
    "    df = variables[variables['csn'] == csn]\n",
    "    hours = [x for x in list(range(df['rel_time'].min(), df['rel_time'].max())) if x not in list(df['rel_time'])]\n",
    "    csn_list.extend([csn] * len(hours))\n",
    "    hours_list.extend(hours)\n",
    "missing = pd.DataFrame(list(zip(csn_list, hours_list)), columns=['csn', 'rel_time'])\n",
    "\n",
    "cols = list(variables.columns)\n",
    "cols.remove('csn')\n",
    "cols.remove('rel_time')\n",
    "\n",
    "for col in cols:\n",
    "    missing[col] = np.nan\n",
    "    \n",
    "missing = missing[list(variables.columns)]\n",
    "variables = pd.concat([variables, missing])\n",
    "variables.sort_values(by=['csn', 'rel_time'], inplace=True)\n",
    "variables.reset_index(inplace=True, drop=True)\n",
    "variables[['patid', 'dob', 'hosp_adm', 'department']] = variables.groupby('csn')[['patid', 'dob', 'hosp_adm', 'department']].ffill()\n",
    "variables['rel_time_med'] = variables['rel_time'] - 0.5\n",
    "variables.loc[variables['recorded_time'].isna(), 'recorded_time'] = variables['hosp_adm'] + pd.to_timedelta(variables['rel_time_med'], unit='h')\n",
    "variables.drop(['rel_time_med'], axis=1, inplace=True)\n",
    "print('Unique CSN total:', len(variables['csn'].unique().tolist()))"
   ]
  },
  {
   "cell_type": "code",
   "execution_count": 21,
   "metadata": {},
   "outputs": [
    {
     "name": "stdout",
     "output_type": "stream",
     "text": [
      "Unique CSN total: 28290\n"
     ]
    }
   ],
   "source": [
    "# Fix temperature (to C)\n",
    "variables['temp'] = variables['temp'].apply(lambda x: (x - 32) * (5 / 9))\n",
    "\n",
    "# Fix weight (to Kg)\n",
    "variables['weight'] = variables['weight'].apply(lambda x: x / 35.274)\n",
    "\n",
    "# Normalize o2 flow (lpm/kg)\n",
    "variables['o2_flow'] = variables['o2_flow'] / variables['weight']\n",
    "\n",
    "# Fix outliers\n",
    "for col in num_vars:\n",
    "    p1 = np.nanpercentile(variables[col], 1.0)\n",
    "    p99 = np.nanpercentile(variables[col], 99.0)\n",
    "    variables.loc[variables[col] < p1, col] = np.nan\n",
    "    variables.loc[variables[col] > p99, col] = np.nan\n",
    "\n",
    "variables.loc[variables['spo2'] > 100, 'spo2'] = 100\n",
    "print('Unique CSN total:', len(variables['csn'].unique().tolist()))"
   ]
  },
  {
   "cell_type": "code",
   "execution_count": 22,
   "metadata": {},
   "outputs": [],
   "source": [
    "# Save dataset file\n",
    "variables.to_parquet(os.path.join('/labs/kamaleswaranlab/dchanci/data/pediatric_sepsis/prediction_ml/updated_data/data_analysis', 'features_preimp_pivot_24_' + campus + '.parquet.gzip'), compression='gzip')"
   ]
  }
 ],
 "metadata": {
  "kernelspec": {
   "display_name": "cv_ml",
   "language": "python",
   "name": "python3"
  },
  "language_info": {
   "codemirror_mode": {
    "name": "ipython",
    "version": 3
   },
   "file_extension": ".py",
   "mimetype": "text/x-python",
   "name": "python",
   "nbconvert_exporter": "python",
   "pygments_lexer": "ipython3",
   "version": "3.9.12"
  },
  "orig_nbformat": 4,
  "vscode": {
   "interpreter": {
    "hash": "2f97d6bd82020baef37a77fbe972a7080695ae080256bd163ad511373799f513"
   }
  }
 },
 "nbformat": 4,
 "nbformat_minor": 2
}
