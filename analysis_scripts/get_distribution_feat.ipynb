{
 "cells": [
  {
   "cell_type": "code",
   "execution_count": 1,
   "metadata": {},
   "outputs": [],
   "source": [
    "# Import libraries and packages\n",
    "import pandas as pd\n",
    "import numpy as np\n",
    "import os\n",
    "import math\n",
    "import tableone\n",
    "from datetime import datetime, timedelta\n",
    "from scipy import stats\n",
    "import matplotlib.pyplot as plt\n",
    "import warnings"
   ]
  },
  {
   "cell_type": "code",
   "execution_count": 2,
   "metadata": {},
   "outputs": [],
   "source": [
    "path = '/home/dchanci/projects/ped_sepsis_prediction_ml/models/results_updated'\n",
    "screening_method = 'inf_phoenix'"
   ]
  },
  {
   "cell_type": "code",
   "execution_count": 3,
   "metadata": {},
   "outputs": [],
   "source": [
    "col_names = ['albumin', 'base_excess', 'base_deficit', 'pco2', 'po2', 'bicarbonate', 'bilirubin_total', 'bp_dias', 'bp_sys', 'bun',\n",
    "              'calcium', 'calcium_ionized', 'chloride', 'co2', 'creatinine', 'fio2', 'glucose', 'hemoglobin', 'lactic_acid', \n",
    "              'map', 'pao2_fio2', 'ph', 'platelets', 'potassium', 'ptt', 'pulse', 'pupil_left_size', 'resp', 'sodium', 'spo2', 'temp', 'wbc']\n",
    "\n",
    "col_names_fixed = ['Albumin (g/dL)', 'Base Excess (mEq/L)', 'Base Deficit (mEq/L)', 'Arterial PaCO2 (mm Hg)', 'Arterial PaO2 (mm Hg)', 'Bicarbonate (mEq/L)', 'Bilirubin (mg/dL)', \n",
    "                   'Diastolic Blood Pressure (mm Hg)', 'Systolic Blood Pressure (mm Hg)', 'BUN (mg/dL)', 'Calcium (mg/dL)', 'Ionized Calcium (mg/dL)', \n",
    "                   'Chloride (mEq/L)', 'CO2 (mEq/L)', 'Creatinine (mg/dL)', 'FiO2 (%)', 'Glucose (mg/dL)', 'Hemoglobin (g/dL)', 'Lactic Acid (mEq/L)', \n",
    "                    'Mean Arterial Pressure (mm Hg)', 'PaO2/FiO2 Ratio (mmHg)', 'pH', 'Platelets (x10\\u2079/L)', 'Potassium (mEq/L)', 'PTT (seconds)', \n",
    "                    'Heart Rate (beats per minute)', 'Pupil Left Size (mm)', 'Respiratory Rate (breaths per minute)', 'Sodium (mEq/L)', 'SpO2 (%)', \n",
    "                    'Temperature (°C)', 'WBC (x10\\u2079/L)']"
   ]
  },
  {
   "cell_type": "code",
   "execution_count": 4,
   "metadata": {},
   "outputs": [],
   "source": [
    "# Load data\n",
    "data = pd.read_parquet(os.path.join('/labs/kamaleswaranlab/dchanci/data/pediatric_sepsis/prediction_ml/updated_data/data_models', 'features_preimp_pivot_eg_' + screening_method + '.parquet.gzip'))\n",
    "data = data[col_names]\n",
    "data.columns = col_names_fixed"
   ]
  },
  {
   "cell_type": "code",
   "execution_count": null,
   "metadata": {},
   "outputs": [],
   "source": [
    "# Compute statistics\n",
    "mean = [round(x,2) for x in list(np.nanmean(data, axis=0))]\n",
    "mean.insert(0, \"Mean\")\n",
    "median = [round(x,2) for x in list(np.nanmedian(data, axis=0))]\n",
    "median.insert(0, \"Median\")\n",
    "q1 = [round(x,2) for x in list(np.nanquantile(data, 0.25, axis=0))]\n",
    "q1.insert(0, \"Q1\")\n",
    "q3 = [round(x,2) for x in list(np.nanquantile(data, 0.75, axis=0))]\n",
    "q3.insert(0, \"Q3\")\n",
    "min = [round(x,2) for x in list(np.nanmin(data, axis=0))]\n",
    "min.insert(0, \"Min\")\n",
    "max = [round(x,2) for x in list(np.nanmax(data, axis=0))]\n",
    "max.insert(0, \"Max\")\n",
    "std = [round(x,2) for x in list(np.nanstd(data, axis=0))]\n",
    "std.insert(0, \"Std\")\n",
    "data.reset_index(inplace=True)\n",
    "data.loc[len(data.index)] = mean\n",
    "data.loc[len(data.index)] = median\n",
    "data.loc[len(data.index)] = q1\n",
    "data.loc[len(data.index)] = q3\n",
    "data.loc[len(data.index)] = min\n",
    "data.loc[len(data.index)] = max\n",
    "data.loc[len(data.index)] = std\n",
    "data = data.iloc[-7:]\n",
    "data=data.rename(columns = {'index':'Feature'})\n",
    "data = data.set_index('Feature')\n",
    "data = data.T\n",
    "data.to_csv(os.path.join(path, screening_method, 'features_dist_eg.csv'))\n",
    "data"
   ]
  },
  {
   "cell_type": "code",
   "execution_count": 6,
   "metadata": {},
   "outputs": [],
   "source": [
    "# Load data\n",
    "data = pd.read_parquet(os.path.join('/labs/kamaleswaranlab/dchanci/data/pediatric_sepsis/prediction_ml/updated_data/data_models', 'features_preimp_pivot_sr_' + screening_method + '.parquet.gzip'))\n",
    "data = data[col_names]\n",
    "data.columns = col_names_fixed"
   ]
  },
  {
   "cell_type": "code",
   "execution_count": null,
   "metadata": {},
   "outputs": [],
   "source": [
    "# Compute statistics\n",
    "mean = [round(x,2) for x in list(np.nanmean(data, axis=0))]\n",
    "mean.insert(0, \"Mean\")\n",
    "median = [round(x,2) for x in list(np.nanmedian(data, axis=0))]\n",
    "median.insert(0, \"Median\")\n",
    "q1 = [round(x,2) for x in list(np.nanquantile(data, 0.25, axis=0))]\n",
    "q1.insert(0, \"Q1\")\n",
    "q3 = [round(x,2) for x in list(np.nanquantile(data, 0.75, axis=0))]\n",
    "q3.insert(0, \"Q3\")\n",
    "min = [round(x,2) for x in list(np.nanmin(data, axis=0))]\n",
    "min.insert(0, \"Min\")\n",
    "max = [round(x,2) for x in list(np.nanmax(data, axis=0))]\n",
    "max.insert(0, \"Max\")\n",
    "std = [round(x,2) for x in list(np.nanstd(data, axis=0))]\n",
    "std.insert(0, \"Std\")\n",
    "data.reset_index(inplace=True)\n",
    "data.loc[len(data.index)] = mean\n",
    "data.loc[len(data.index)] = median\n",
    "data.loc[len(data.index)] = q1\n",
    "data.loc[len(data.index)] = q3\n",
    "data.loc[len(data.index)] = min\n",
    "data.loc[len(data.index)] = max\n",
    "data.loc[len(data.index)] = std\n",
    "data = data.iloc[-7:]\n",
    "data=data.rename(columns = {'index':'Feature'})\n",
    "data = data.set_index('Feature')\n",
    "data = data.T\n",
    "data.to_csv(os.path.join(path, screening_method, 'features_dist_sr.csv'))\n",
    "data"
   ]
  },
  {
   "cell_type": "code",
   "execution_count": null,
   "metadata": {},
   "outputs": [],
   "source": [
    "# Organize tables \n",
    "dist_eg = pd.read_csv(os.path.join(path, screening_method, 'features_dist_eg.csv'))\n",
    "dist_eg.rename(columns={'Unnamed: 0': 'Feature'}, inplace=True)\n",
    "for i in range(dist_eg.shape[0]):\n",
    "    dist_eg.loc[dist_eg.index == i, 'Mean (SD)'] = str(dist_eg.loc[dist_eg.index == i, 'Mean'].values[0]) + ' (' + str(dist_eg.loc[dist_eg.index == i, 'Std'].values[0]) + ')'\n",
    "    dist_eg.loc[dist_eg.index == i, 'Median (Q1, Q3)'] = str(dist_eg.loc[dist_eg.index == i, 'Median'].values[0]) + ' (' + str(dist_eg.loc[dist_eg.index == i, 'Q1'].values[0]) + ', ' + str(dist_eg.loc[dist_eg.index == i, 'Q3'].values[0]) + ')'\n",
    "    dist_eg.loc[dist_eg.index == i, 'Min, Max'] = str(dist_eg.loc[dist_eg.index == i, 'Min'].values[0]) + ', ' + str(dist_eg.loc[dist_eg.index == i, 'Max'].values[0])\n",
    "dist_eg.drop(['Mean', 'Median', 'Q1', 'Q3', 'Min', 'Max', 'Std'], axis=1, inplace=True)\n",
    "\n",
    "\n",
    "dist_sr = pd.read_csv(os.path.join(path, screening_method, 'features_dist_sr.csv'))\n",
    "dist_sr.rename(columns={'Unnamed: 0': 'Feature'}, inplace=True)\n",
    "for i in range(dist_sr.shape[0]):\n",
    "    dist_sr.loc[dist_sr.index == i, 'Mean (SD)'] = str(dist_sr.loc[dist_sr.index == i, 'Mean'].values[0]) + ' (' + str(dist_sr.loc[dist_sr.index == i, 'Std'].values[0]) + ')'\n",
    "    dist_sr.loc[dist_sr.index == i, 'Median (Q1, Q3)'] = str(dist_sr.loc[dist_sr.index == i, 'Median'].values[0]) + ' (' + str(dist_sr.loc[dist_sr.index == i, 'Q1'].values[0]) + ', ' + str(dist_sr.loc[dist_sr.index == i, 'Q3'].values[0]) + ')'\n",
    "    dist_sr.loc[dist_sr.index == i, 'Min, Max'] = str(dist_sr.loc[dist_sr.index == i, 'Min'].values[0]) + ', ' + str(dist_sr.loc[dist_sr.index == i, 'Max'].values[0])\n",
    "dist_sr.drop(['Mean', 'Median', 'Q1', 'Q3', 'Min', 'Max', 'Std'], axis=1, inplace=True)\n",
    "dist_sr\n",
    "\n",
    "dist_eg = dist_eg.merge(dist_sr, on='Feature')\n",
    "dist_eg.columns = [['Feature', 'Derivation', 'Derivation', 'Derivation', 'Validation', 'Validation', 'Validation'], [' ', 'Mean (SD)', 'Median (Q1, Q3)', 'Min, Max', 'Mean (SD)', 'Median (Q1, Q3)', 'Min, Max']]\n",
    "dist_eg.to_csv(os.path.join(path, screening_method, 'features_dist.csv'), index=False)\n",
    "dist_eg"
   ]
  }
 ],
 "metadata": {
  "kernelspec": {
   "display_name": "cv_ml",
   "language": "python",
   "name": "python3"
  },
  "language_info": {
   "codemirror_mode": {
    "name": "ipython",
    "version": 3
   },
   "file_extension": ".py",
   "mimetype": "text/x-python",
   "name": "python",
   "nbconvert_exporter": "python",
   "pygments_lexer": "ipython3",
   "version": "3.9.12"
  },
  "orig_nbformat": 4
 },
 "nbformat": 4,
 "nbformat_minor": 2
}
