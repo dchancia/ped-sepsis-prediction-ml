{
 "cells": [
  {
   "cell_type": "code",
   "execution_count": 5,
   "metadata": {},
   "outputs": [],
   "source": [
    "# Import libraries and packages\n",
    "import pandas as pd\n",
    "import numpy as np\n",
    "import os\n",
    "import math\n",
    "from datetime import datetime, timedelta\n",
    "from scipy import stats\n",
    "from scipy.stats import skew, kurtosis\n",
    "import matplotlib.pyplot as plt\n",
    "import warnings\n",
    "import random\n",
    "warnings.filterwarnings(\"ignore\")"
   ]
  },
  {
   "cell_type": "code",
   "execution_count": 6,
   "metadata": {},
   "outputs": [],
   "source": [
    "# Define variables\n",
    "path = '/labs/kamaleswaranlab/dchanci/data/pediatric_sepsis/prediction_ml/updated_data/data_screening'\n",
    "department = 'SR PEDIATRIC ICU'\n",
    "campus = 'sr'"
   ]
  },
  {
   "cell_type": "code",
   "execution_count": 7,
   "metadata": {},
   "outputs": [
    {
     "name": "stdout",
     "output_type": "stream",
     "text": [
      "Loading encounters...\n",
      "Loading complete cohort...\n",
      "Unique CSN total: 63877\n"
     ]
    }
   ],
   "source": [
    "# Load encounters file\n",
    "print('Loading encounters...')\n",
    "dept_path = '/labs/kamaleswaranlab/ECMO/new_data/TAB2_Encounter_Departments.parquet.gzip'\n",
    "dept = pd.read_parquet(dept_path)\n",
    "dept[['BIRTH_DATE', 'Hosp_Admission', 'Hosp_Discharge', 'Entered_Dept', 'Exited_Dept']] = dept[['BIRTH_DATE', 'Hosp_Admission', 'Hosp_Discharge', 'Entered_Dept', 'Exited_Dept']].apply(pd.to_datetime)\n",
    "dept = dept[['Pat ID', 'Encounter CSN', 'Name', 'BIRTH_DATE', 'Department', 'Entered_Dept', 'Exited_Dept', 'Hosp_Admission', 'Hosp_Discharge']]\n",
    "dept.columns = ['patid', 'csn', 'name', 'dob', 'department', 'entered_dept', 'exited_dept', 'hosp_adm', 'hosp_disch']\n",
    "dept = dept[(dept['department'].str.contains('PEDIATRIC ICU')) & (dept['hosp_adm'] >= '2010-01-01')]\n",
    "dept['csn'] = dept['csn'].astype(int)\n",
    "dept.dropna(inplace=True)\n",
    "dept.drop_duplicates(inplace=True)\n",
    "\n",
    "dept_first = dept.sort_values(by=['csn', 'hosp_adm', 'entered_dept'])\n",
    "dept_first = dept_first.groupby('csn', as_index=False).first()\n",
    "\n",
    "# Load complete cohort\n",
    "print('Loading complete cohort...')\n",
    "cohort = pd.read_csv(os.path.join(path, 'complete_cohort.csv'))\n",
    "cohort = cohort[['patid', 'mrn', 'csn', 'dob']]\n",
    "cohort['dob'] = cohort['dob'].apply(pd.to_datetime)\n",
    "cohort['csn'] = cohort['csn'].astype(int)\n",
    "\n",
    "cohort = cohort.merge(dept_first[['csn', 'department', 'entered_dept', 'exited_dept', 'hosp_adm', 'hosp_disch']], how='inner', on='csn')\n",
    "cohort.drop_duplicates(inplace=True)\n",
    "\n",
    "print('Unique CSN total:', len(cohort['csn'].unique().tolist()))"
   ]
  },
  {
   "cell_type": "markdown",
   "metadata": {},
   "source": [
    "### Filter data"
   ]
  },
  {
   "cell_type": "code",
   "execution_count": 8,
   "metadata": {},
   "outputs": [
    {
     "name": "stdout",
     "output_type": "stream",
     "text": [
      "Loading data...\n",
      "Adding hospital admission and department...\n",
      "Fixing blood pressure...\n",
      "Unique CSN total: 35557\n"
     ]
    }
   ],
   "source": [
    "# Load data\n",
    "print('Loading data...')\n",
    "variables = pd.read_parquet('/labs/kamaleswaranlab/dchanci/data/pediatric_sepsis/prediction_ml/updated_data/data_models/raw_features.parquet.gzip')\n",
    "variables[['dob', 'recorded_time']] = variables[['dob', 'recorded_time']].apply(pd.to_datetime)\n",
    "variables[['csn', 'variable_id']] = variables[['csn', 'variable_id']].astype(int)\n",
    "variables.dropna(subset=['value'], inplace=True)\n",
    "variables = variables[~((variables['variable_name'] == 'BP') & ~(variables['value'].str.contains(\"/\", case=False)))]\n",
    "\n",
    "# Load meds\n",
    "meds = pd.read_parquet('/labs/kamaleswaranlab/dchanci/data/pediatric_sepsis/prediction_ml/updated_data/data_screening/filtered_meds.parquet.gzip')\n",
    "meds[['dob', 'mar_time']] = meds[['dob', 'mar_time']].apply(pd.to_datetime)\n",
    "meds['csn'] = meds['csn'].astype(int)\n",
    "meds = meds[(meds['csn'].isin(variables['csn'].unique().tolist())) & (meds['dose_unit'] == 'mcg/kg/min') & \n",
    "        (meds['med'].str.contains('epinephrine|dopamine', case=False))]\n",
    "meds = meds[['patid', 'csn', 'dob', 'med_id', 'med', 'mar_time', 'dose']]\n",
    "meds.columns = ['patid', 'csn', 'dob', 'variable_id', 'variable_name', 'recorded_time', 'value']\n",
    "meds.loc[(meds['variable_name'].str.contains(\"epinephrine\", case=False)) & ~(meds['variable_name'].str.contains(\"norepinephrine\", case=False)), 'variable_name'] = 'epinephrine'\n",
    "meds.loc[meds['variable_name'].str.contains(\"norepinephrine\", case=False), 'variable_name'] = 'norepinephrine'\n",
    "meds.loc[meds['variable_name'].str.contains(\"dopamine\", case=False), 'variable_name'] = 'dopamine'\n",
    "meds.reset_index(inplace=True, drop=True)\n",
    "variables = pd.concat([variables, meds])\n",
    "\n",
    "# Add resp support data\n",
    "resp = pd.read_parquet('/labs/kamaleswaranlab/dchanci/data/pediatric_sepsis/prediction_ml/updated_data/data_screening/resp_data.parquet.gzip')\n",
    "resp['csn'] = resp['csn'].astype(int)\n",
    "resp = resp[resp['csn'].isin(variables['csn'].unique().tolist())]\n",
    "resp[['dob', 'recorded_time']] = resp[['dob', 'recorded_time']].apply(pd.to_datetime)\n",
    "variables = pd.concat([variables, resp])\n",
    "\n",
    "# Add hospital admission and department\n",
    "print('Adding hospital admission and department...')\n",
    "variables = pd.merge(variables, cohort[['csn', 'hosp_adm', 'department']], on='csn', how='inner')\n",
    "variables = variables[['patid', 'csn', 'dob', 'hosp_adm', 'department', 'variable_id', 'variable_name', 'recorded_time', 'value']]\n",
    "variables = variables[variables['department'] == department] \n",
    "variables.reset_index(drop=True, inplace=True)\n",
    "\n",
    "# Gather data within first 7 days of the stay\n",
    "variables['rel_day'] = np.ceil((variables['recorded_time'] - variables['hosp_adm']) / pd.Timedelta('1 day'))\n",
    "variables = variables[(variables['rel_day'] > 0) & (variables['rel_day'] < 8)]\n",
    "variables.drop('rel_day', axis=1, inplace=True)\n",
    "\n",
    "# Fix blood pressure\n",
    "print('Fixing blood pressure...')\n",
    "sysbp = variables[variables['variable_name'] == 'BP']\n",
    "sysbp['variable_id'] = 1\n",
    "sysbp['variable_name'] = 'bp_sys'\n",
    "sysbp['value'] = sysbp['value'].apply(lambda x: float(x.split('/')[0]))\n",
    "variables.loc[variables['variable_name'] == 'BP', 'variable_name'] = 'bp_dias'\n",
    "variables.loc[variables['variable_name'] == 'bp_dias', 'value'] = variables.loc[variables['variable_name'] == 'bp_dias', 'value'].apply(lambda x: float(x.split('/')[1]))\n",
    "variables = pd.concat([variables, sysbp])\n",
    "variables.dropna(subset=['value'], inplace=True)\n",
    "variables.reset_index(drop=True, inplace=True)\n",
    "\n",
    "print('Unique CSN total:', len(variables['csn'].unique().tolist()))"
   ]
  },
  {
   "cell_type": "markdown",
   "metadata": {},
   "source": [
    "### Clean and preprocess data"
   ]
  },
  {
   "cell_type": "code",
   "execution_count": 9,
   "metadata": {},
   "outputs": [
    {
     "name": "stdout",
     "output_type": "stream",
     "text": [
      "Changing variables names...\n"
     ]
    }
   ],
   "source": [
    "# Change some variables names. Similar variables will have the same name\n",
    "print('Changing variables names...')\n",
    "variables.loc[variables['variable_name'] == 'Weight', 'variable_name'] = 'weight'\n",
    "variables.loc[variables['variable_name'] == 'Volume Infused (mL)', 'variable_name'] = 'vol_infused'\n",
    "variables.loc[variables['variable_name'] == 'Urine (mL)', 'variable_name'] = 'urine'\n",
    "variables.loc[variables['variable_name'] == 'Code Sheet Weight (kg)', 'variable_name'] = 'weight'\n",
    "variables.loc[variables['variable_name'] == 'Pulse', 'variable_name'] = 'pulse'\n",
    "variables.loc[variables['variable_name'] == 'MAP', 'variable_name'] = 'map'\n",
    "variables.loc[variables['variable_name'] == 'ABP MAP', 'variable_name'] = 'map'\n",
    "variables.loc[variables['variable_name'] == 'ART MAP', 'variable_name'] = 'map'\n",
    "variables.loc[variables['variable_name'] == 'Resp', 'variable_name'] = 'resp'\n",
    "variables.loc[variables['variable_name'] == 'SpO2', 'variable_name'] = 'spo2'\n",
    "variables.loc[variables['variable_name'] == 'Perfused Pulse (SpO2)', 'variable_name'] = 'spo2'\n",
    "variables.loc[variables['variable_name'] == 'Temp', 'variable_name'] = 'temp'\n",
    "variables.loc[variables['variable_name'] == 'FiO2 (%)', 'variable_name'] = 'fio2'\n",
    "variables.loc[variables['variable_name'] == 'PaO2/FiO2 (Calculated)', 'variable_name'] = 'pao2_fio2'\n",
    "variables.loc[variables['variable_name'] == 'Pupil Left Reaction', 'variable_name'] = 'pupil_left_reaction'\n",
    "variables.loc[variables['variable_name'] == 'Pupil Left Size', 'variable_name'] = 'pupil_left_size'\n",
    "variables.loc[variables['variable_name'] == 'Pupil Right Reaction', 'variable_name'] = 'pupil_right_reaction'\n",
    "variables.loc[variables['variable_name'] == 'Pupil Right Size', 'variable_name'] = 'pupil_right_size'\n",
    "variables.loc[variables['variable_name'] == 'Coma Scale Total', 'variable_name'] = 'coma_scale_total'\n",
    "variables.loc[variables['variable_name'] == 'Oxygen Flow (lpm)', 'variable_name'] = 'o2_flow'\n",
    "variables.loc[variables['variable_name'] == 'POC pH', 'variable_name'] = 'ph'\n",
    "variables.loc[variables['variable_name'] == 'POC PO2', 'variable_name'] = 'po2'\n",
    "variables.loc[variables['variable_name'] == 'ARTERIAL POC PO2', 'variable_name'] = 'po2'\n",
    "variables.loc[variables['variable_name'] == 'CAPILLARY POC PO2', 'variable_name'] = 'po2'\n",
    "variables.loc[variables['variable_name'] == 'VENOUS POC PO2', 'variable_name'] = 'po2'\n",
    "variables.loc[variables['variable_name'] == 'POC PCO2', 'variable_name'] = 'pco2'\n",
    "variables.loc[variables['variable_name'] == 'ARTERIAL POC PCO2', 'variable_name'] = 'pco2'\n",
    "variables.loc[variables['variable_name'] == 'CAPILLARY POC PCO2', 'variable_name'] = 'pco2'\n",
    "variables.loc[variables['variable_name'] == 'VENOUS POC PCO2', 'variable_name'] = 'pco2'\n",
    "variables.loc[variables['variable_name'] == 'POTASSIUM', 'variable_name'] = 'potassium'\n",
    "variables.loc[variables['variable_name'] == 'SODIUM', 'variable_name'] = 'sodium'\n",
    "variables.loc[variables['variable_name'] == 'CHLORIDE', 'variable_name'] = 'chloride'\n",
    "variables.loc[variables['variable_name'] == 'POC GLUCOSE', 'variable_name'] = 'glucose'\n",
    "variables.loc[variables['variable_name'] == 'GLUCOSE', 'variable_name'] = 'glucose'\n",
    "variables.loc[variables['variable_name'] == 'BUN', 'variable_name'] = 'bun'\n",
    "variables.loc[variables['variable_name'] == 'CREATININE', 'variable_name'] = 'creatinine'\n",
    "variables.loc[variables['variable_name'] == 'CALCIUM', 'variable_name'] = 'calcium'\n",
    "variables.loc[variables['variable_name'] == 'POC CALCIUM IONIZED', 'variable_name'] = 'calcium_ionized'\n",
    "variables.loc[variables['variable_name'] == 'CO2', 'variable_name'] = 'co2'\n",
    "variables.loc[variables['variable_name'] == 'HEMOGLOBIN', 'variable_name'] = 'hemoglobin'\n",
    "variables.loc[variables['variable_name'] == 'BILIRUBIN TOTAL', 'variable_name'] = 'bilirubin_total'\n",
    "variables.loc[variables['variable_name'] == 'ALBUMIN', 'variable_name'] = 'albumin'\n",
    "variables.loc[variables['variable_name'] == 'WBC', 'variable_name'] = 'wbc'\n",
    "variables.loc[variables['variable_name'] == 'PLATELETS', 'variable_name'] = 'platelets'\n",
    "variables.loc[variables['variable_name'] == 'PTT', 'variable_name'] = 'ptt'\n",
    "variables.loc[variables['variable_name'] == 'PTT.', 'variable_name'] = 'ptt'\n",
    "variables.loc[variables['variable_name'] == 'ARTERIAL BASE EXCESS', 'variable_name'] = 'base_excess'\n",
    "variables.loc[variables['variable_name'] == 'VENOUS BASE EXCESS', 'variable_name'] = 'base_excess'\n",
    "variables.loc[variables['variable_name'] == 'CAP BASE EXCESS', 'variable_name'] = 'base_excess'\n",
    "variables.loc[variables['variable_name'] == 'ART BASE DEFICIT', 'variable_name'] = 'base_deficit'\n",
    "variables.loc[variables['variable_name'] == 'VENOUS BASE DEFICIT', 'variable_name'] = 'base_deficit'\n",
    "variables.loc[variables['variable_name'] == 'CAP BASE DEFICIT', 'variable_name'] = 'base_deficit'\n",
    "variables.loc[variables['variable_name'] == 'HCO3', 'variable_name'] = 'bicarbonate'\n",
    "variables.loc[variables['variable_name'] == 'LACTIC ACID', 'variable_name'] = 'lactic_acid'\n",
    "variables.loc[variables['variable_name'] == 'POC LACTIC ACID', 'variable_name'] = 'lactic_acid'\n",
    "variables.loc[variables['variable_name'] == 'LACTIC ACID WHOLE BLOOD', 'variable_name'] = 'lactic_acid'\n",
    "variables.loc[variables['variable_name'] == 'BAND NEUTROPHILS % (MANUAL)', 'variable_name'] = 'band_neutrophils'\n",
    "variables.loc[variables['variable_name'] == 'ARTERIAL POC PH', 'variable_name'] = 'ph'\n",
    "variables.loc[variables['variable_name'] == 'CAPILLARY POC PH', 'variable_name'] = 'ph'\n",
    "variables.loc[variables['variable_name'] == 'VENOUS POC PH', 'variable_name'] = 'ph'\n",
    "variables.loc[variables['variable_name'] == 'ALT (SGPT)', 'variable_name'] = 'alt'\n",
    "variables.loc[variables['variable_name'] == 'AST (SGOT)', 'variable_name'] = 'ast'\n",
    "variables.loc[variables['variable_name'] == 'INT NORM RATIO', 'variable_name'] = 'inr'\n",
    "variables.loc[variables['variable_name'] == 'PROTIME', 'variable_name'] = 'pt'\n",
    "variables.drop(['variable_id'], axis=1, inplace=True)"
   ]
  },
  {
   "cell_type": "code",
   "execution_count": 10,
   "metadata": {},
   "outputs": [
    {
     "name": "stdout",
     "output_type": "stream",
     "text": [
      "Fixing pupillary reaction...\n",
      "Dropping invalid observations...\n",
      "Unique CSN total: 35557\n"
     ]
    }
   ],
   "source": [
    "# Fix pupillary reaction\n",
    "print('Fixing pupillary reaction...')\n",
    "variables.loc[(variables['variable_name'].isin(['pupil_left_reaction', 'pupil_right_reaction'])) & (variables['value'].isin(['Brisk', 'Sluggish', 'Hippus'])), 'value'] = 'Reactive'\n",
    "variables.loc[(variables['variable_name'].isin(['pupil_left_reaction', 'pupil_right_reaction'])) & (variables['value'].isin(['Non-reactive'])), 'value'] = 'Non-reactive'\n",
    "variables.loc[(variables['variable_name'].isin(['pupil_left_reaction', 'pupil_right_reaction'])) & (variables['value'].isin(['Unable to assess', 'Pinpoint', 'No eye', 'Pharmacologically dilated', 'Keyhole', 'Ovoid', 'Ovid'])), 'value'] = 'Unable to Assess'\n",
    "\n",
    "# Fix pupil size\n",
    "variables.loc[variables['variable_name'].isin(['pupil_left_size', 'pupil_right_size']), 'value'] = variables.loc[variables['variable_name'].isin(['pupil_left_size', 'pupil_right_size']), 'value'].apply(lambda x: x[:-2])\n",
    "\n",
    "# Numerical variables\n",
    "print('Dropping invalid observations...')\n",
    "num_vars = ['weight', 'pulse', 'map', 'bp_sys', 'bp_dias', 'resp', 'spo2', 'temp', 'fio2', 'pao2_fio2', 'pupil_left_size', \n",
    "            'pupil_right_size', 'coma_scale_total', 'o2_flow', 'ph', 'po2', 'pco2', 'potassium',\n",
    "            'sodium', 'chloride', 'glucose', 'bun', 'creatinine', 'calcium', 'calcium_ionized', 'co2', 'hemoglobin',\n",
    "            'bilirubin_total', 'albumin', 'wbc', 'platelets', 'ptt', 'base_excess', 'bicarbonate', 'lactic_acid',\n",
    "            'base_deficit', 'vol_infused', 'urine']\n",
    "num_vars_extra = num_vars.copy()\n",
    "num_vars_extra.extend(['band_neutrophils', 'alt', 'ast', 'pt', 'inr', 'epinephrine', 'norepinephrine', 'dopamine', 'resp_indicator'])\n",
    "\n",
    "# Categorical variables\n",
    "cat_vars = ['pupil_left_reaction', 'pupil_right_reaction']\n",
    "\n",
    "# Check that all values are numbers for numerical variables\n",
    "variables = variables[(variables['value'].apply(lambda x: str(x).replace(\".\", \"\", 1).isdigit())) | (variables['variable_name'].isin(cat_vars))]\n",
    "variables.loc[variables['variable_name'].isin(num_vars_extra), 'value'] = variables.loc[variables['variable_name'].isin(num_vars_extra), 'value'].astype(float)\n",
    "variables.dropna(subset=['value'], inplace=True)\n",
    "variables.reset_index(drop=True, inplace=True)\n",
    "\n",
    "print('Unique CSN total:', len(variables['csn'].unique().tolist()))"
   ]
  },
  {
   "cell_type": "markdown",
   "metadata": {},
   "source": [
    "### Preprocess"
   ]
  },
  {
   "cell_type": "code",
   "execution_count": 11,
   "metadata": {},
   "outputs": [
    {
     "name": "stdout",
     "output_type": "stream",
     "text": [
      "Data wrangling and generation of flags...\n",
      "Unique CSN total: 35557\n"
     ]
    }
   ],
   "source": [
    "# Data wrangling and imputation\n",
    "print('Data wrangling and generation of flags...')\n",
    "\n",
    "# Pivot data\n",
    "variables = pd.pivot_table(variables, values='value', index=['patid', 'csn', 'dob', 'hosp_adm', 'department', 'recorded_time'], columns=['variable_name'], aggfunc=(lambda x: x.iloc[0]), fill_value=np.nan)\n",
    "variables.reset_index(inplace=True)\n",
    "variables[['dob', 'hosp_adm', 'recorded_time']] = variables[['dob', 'hosp_adm', 'recorded_time']].apply(pd.to_datetime)\n",
    "\n",
    "# Create column with relative time\n",
    "variables.insert(6, 'rel_time', np.nan)\n",
    "variables['rel_time'] = np.ceil((variables['recorded_time'] - variables['hosp_adm']) / pd.Timedelta('1 hour'))\n",
    "variables = variables[variables['rel_time'] > 0]\n",
    "variables.sort_values(by=['csn', 'rel_time'], inplace=True)\n",
    "print('Unique CSN total:', len(variables['csn'].unique().tolist()))"
   ]
  },
  {
   "cell_type": "code",
   "execution_count": 12,
   "metadata": {},
   "outputs": [
    {
     "name": "stdout",
     "output_type": "stream",
     "text": [
      "Unique CSN total: 35557\n"
     ]
    }
   ],
   "source": [
    "# Resample data\n",
    "agg_dict = {}\n",
    "for col in variables.columns:\n",
    "    if col in num_vars_extra:\n",
    "        agg_dict[col] = pd.NamedAgg(column=col, aggfunc='median')\n",
    "    else:\n",
    "        agg_dict[col] = pd.NamedAgg(column=col, aggfunc='last')\n",
    "\n",
    "variables = variables.groupby(['patid', 'csn', 'dob', 'hosp_adm', 'department', 'rel_time'], as_index=False).agg(**agg_dict)\n",
    "variables.sort_values(by=['csn', 'rel_time'], inplace=True)\n",
    "variables.reset_index(drop=True, inplace=True)\n",
    "print('Unique CSN total:', len(variables['csn'].unique().tolist()))"
   ]
  },
  {
   "cell_type": "code",
   "execution_count": 13,
   "metadata": {},
   "outputs": [
    {
     "name": "stdout",
     "output_type": "stream",
     "text": [
      "Unique CSN total: 35557\n"
     ]
    }
   ],
   "source": [
    "# Create rows for missing hours\n",
    "hours_list = []\n",
    "csn_list = []\n",
    "variables['rel_time'] = variables['rel_time'].astype(int)\n",
    "\n",
    "for csn in variables['csn'].unique().tolist():\n",
    "    df = variables[variables['csn'] == csn]\n",
    "    hours = [x for x in list(range(df['rel_time'].min(), df['rel_time'].max())) if x not in list(df['rel_time'])]\n",
    "    csn_list.extend([csn] * len(hours))\n",
    "    hours_list.extend(hours)\n",
    "missing = pd.DataFrame(list(zip(csn_list, hours_list)), columns=['csn', 'rel_time'])\n",
    "\n",
    "cols = list(variables.columns)\n",
    "cols.remove('csn')\n",
    "cols.remove('rel_time')\n",
    "\n",
    "for col in cols:\n",
    "    missing[col] = np.nan\n",
    "    \n",
    "missing = missing[list(variables.columns)]\n",
    "variables = pd.concat([variables, missing])\n",
    "variables.sort_values(by=['csn', 'rel_time'], inplace=True)\n",
    "variables.reset_index(inplace=True, drop=True)\n",
    "variables[['patid', 'dob', 'hosp_adm', 'department']] = variables.groupby('csn')[['patid', 'dob', 'hosp_adm', 'department']].ffill()\n",
    "variables['rel_time_med'] = variables['rel_time'] - 0.5\n",
    "variables.loc[variables['recorded_time'].isna(), 'recorded_time'] = variables['hosp_adm'] + pd.to_timedelta(variables['rel_time_med'], unit='h')\n",
    "variables.drop(['rel_time_med'], axis=1, inplace=True)\n",
    "print('Unique CSN total:', len(variables['csn'].unique().tolist()))"
   ]
  },
  {
   "cell_type": "code",
   "execution_count": 14,
   "metadata": {},
   "outputs": [
    {
     "name": "stdout",
     "output_type": "stream",
     "text": [
      "Unique CSN total: 35557\n"
     ]
    }
   ],
   "source": [
    "# Fix temperature (to C)\n",
    "variables['temp'] = variables['temp'].apply(lambda x: (x - 32) * (5 / 9))\n",
    "\n",
    "# Fix weight (to Kg)\n",
    "variables['weight'] = variables['weight'].apply(lambda x: x / 35.274)\n",
    "\n",
    "# Normalize o2 flow (lpm/kg)\n",
    "variables['o2_flow'] = variables['o2_flow'] / variables['weight']\n",
    "\n",
    "# Fix outliers\n",
    "for col in num_vars:\n",
    "    p1 = np.nanpercentile(variables[col], 1.0)\n",
    "    p99 = np.nanpercentile(variables[col], 99.0)\n",
    "    variables.loc[variables[col] < p1, col] = np.nan\n",
    "    variables.loc[variables[col] > p99, col] = np.nan\n",
    "\n",
    "variables.loc[variables['spo2'] > 100, 'spo2'] = 100\n",
    "print('Unique CSN total:', len(variables['csn'].unique().tolist()))"
   ]
  },
  {
   "cell_type": "code",
   "execution_count": 15,
   "metadata": {},
   "outputs": [],
   "source": [
    "# Calculate pSOFA components\n",
    "\n",
    "# Add age\n",
    "variables['age_days'] = round((variables['hosp_adm'] - variables['dob']) / pd.Timedelta('1 day'), 0)\n",
    "variables['age_months'] = round(variables['age_days'] / 31, 2)\n",
    "variables['age_years'] = round(variables['age_days'] / 365.25, 2)\n",
    "\n",
    "# Calculate spo2_fio2\n",
    "variables['fio2_imputed'] = variables.groupby(['csn'])['fio2'].ffill(24)\n",
    "variables['resp_imputed'] = variables.groupby(['csn'])['resp_indicator'].ffill()\n",
    "variables.loc[variables['spo2'] <= 97, 'spo2_fio2'] = variables['spo2'] / (variables['fio2_imputed'] / 100)\n",
    "\n",
    "# Calculate pao2_fio2\n",
    "variables['pao2_fio2'] = variables['po2'] / (variables['fio2_imputed'] / 100)\n",
    "\n",
    "# Calculate respiratory component\n",
    "variables['resp_psofa'] = 0\n",
    "variables['resp_psofa'] = np.where((variables['pao2_fio2'] >= 400) | (variables['spo2_fio2'] >= 292), 0, \n",
    "                        np.where(((variables['pao2_fio2'] >= 300) & (variables['pao2_fio2'] < 400)) | ((variables['spo2_fio2'] >= 264) & (variables['spo2_fio2'] < 292)), 1, \n",
    "                        np.where(((variables['pao2_fio2'] >= 200) & (variables['pao2_fio2'] < 300)) | ((variables['spo2_fio2'] >= 221) & (variables['spo2_fio2'] < 264)), 2, \n",
    "                        np.where((((variables['pao2_fio2'] >= 100) & (variables['pao2_fio2'] < 200)) | ((variables['spo2_fio2'] >= 148) & (variables['spo2_fio2'] < 221))) & (variables['resp_imputed'] == 1), 3, \n",
    "                        np.where(((variables['pao2_fio2'] < 100) | (variables['spo2_fio2'] < 148)) & (variables['resp_imputed'] == 1), 4, 0)))))\n",
    "variables.drop(['fio2_imputed', 'spo2_fio2', 'resp_imputed'], axis=1, inplace=True)\n",
    "\n",
    "# Calculate coagulation component\n",
    "variables['coag_psofa'] = 0\n",
    "variables['coag_psofa'] = np.where(variables['platelets'] >= 150, 0, \n",
    "                        np.where((variables['platelets'] >= 100) & (variables['platelets'] < 150), 1, \n",
    "                        np.where((variables['platelets'] >= 50) & (variables['platelets'] < 100), 2, \n",
    "                        np.where((variables['platelets'] >= 20) & (variables['platelets'] < 50), 3, \n",
    "                        np.where(variables['platelets'] < 20, 4, 0)))))\n",
    "\n",
    "# Calculate hepatic component\n",
    "variables['hep_psofa'] = 0\n",
    "variables['hep_psofa'] = np.where(variables['bilirubin_total'] < 1.2, 0, \n",
    "                        np.where((variables['bilirubin_total'] >= 1.2) & (variables['bilirubin_total'] < 2), 1, \n",
    "                        np.where((variables['bilirubin_total'] >= 2) & (variables['bilirubin_total'] < 6), 2, \n",
    "                        np.where((variables['bilirubin_total'] >= 6) & (variables['bilirubin_total'] < 12), 3, \n",
    "                        np.where(variables['bilirubin_total'] >= 12, 4, 0)))))\n",
    "\n",
    "# Calculate cardiovascular component (No dobutamine)\n",
    "variables['card_psofa'] = 0\n",
    "variables['card_psofa'] = np.where(((variables['age_months'] < 1) & (variables['map'] >= 46)) | \n",
    "                                ((variables['age_months'] < 12) & (variables['map'] >= 55)) |\n",
    "                                ((variables['age_months'] < 24) & (variables['map'] >= 60)) |\n",
    "                                ((variables['age_months'] < 60) & (variables['map'] >= 62)) |\n",
    "                                ((variables['age_months'] < 144) & (variables['map'] >= 65)) |\n",
    "                                ((variables['age_months'] <= 216) & (variables['map'] >= 67)) |\n",
    "                                ((variables['age_months'] > 216) & (variables['map'] >= 70)), 0, \n",
    "                        np.where(((variables['age_months'] < 1) & (variables['map'] < 46)) | \n",
    "                                ((variables['age_months'] < 12) & (variables['map'] < 55)) |\n",
    "                                ((variables['age_months'] < 24) & (variables['map'] < 60)) |\n",
    "                                ((variables['age_months'] < 60) & (variables['map'] < 62)) |\n",
    "                                ((variables['age_months'] < 144) & (variables['map'] < 65)) |\n",
    "                                ((variables['age_months'] <= 216) & (variables['map'] < 67)) |\n",
    "                                ((variables['age_months'] > 216) & (variables['map'] < 70)), 1, \n",
    "                        np.where(variables['dopamine'] <= 5, 2, \n",
    "                        np.where((variables['dopamine'] > 5) | (variables['epinephrine'] <= 0.1) | (variables['norepinephrine'] <= 0.1), 3, \n",
    "                        np.where((variables['dopamine'] > 15) | (variables['epinephrine'] > 0.1) | (variables['norepinephrine'] > 0.1), 4, 0)))))\n",
    "\n",
    "# Calculate neurologic component \n",
    "variables['neuro_psofa'] = 0\n",
    "variables['neuro_psofa'] = np.where(variables['coma_scale_total'] >= 15, 0, \n",
    "                        np.where((variables['coma_scale_total'] >= 13) & (variables['coma_scale_total'] < 15), 1, \n",
    "                        np.where((variables['coma_scale_total'] >= 10) & (variables['coma_scale_total'] < 13), 2, \n",
    "                        np.where((variables['coma_scale_total'] >= 6) & (variables['coma_scale_total'] < 10), 3, \n",
    "                        np.where(variables['coma_scale_total'] < 6, 4, 0)))))\n",
    "\n",
    "# Calculate renal component \n",
    "variables['renal_psofa'] = 0\n",
    "variables['renal_psofa'] = np.where(((variables['age_months'] < 1) & (variables['creatinine'] < 0.8)) |\n",
    "                                (((variables['age_months'] >= 1) & (variables['age_months'] < 12)) & (variables['creatinine'] < 0.3)) |\n",
    "                                (((variables['age_months'] >= 12) & (variables['age_months'] < 24)) & (variables['creatinine'] < 0.4)) |\n",
    "                                (((variables['age_months'] >= 24) & (variables['age_months'] < 60)) & (variables['creatinine'] < 0.6)) |\n",
    "                                (((variables['age_months'] >= 60) & (variables['age_months'] < 144)) & (variables['creatinine'] < 0.7)) |\n",
    "                                (((variables['age_months'] >= 144) & (variables['age_months'] <= 216)) & (variables['creatinine'] < 1.0)) |\n",
    "                                ((variables['age_months'] > 216) & (variables['creatinine'] < 1.2)), 0, \n",
    "                        np.where(((variables['age_months'] < 1) & ((variables['creatinine'] < 1.0) & (variables['creatinine'] >= 0.8))) |\n",
    "                                (((variables['age_months'] >= 1) & (variables['age_months'] < 12)) & ((variables['creatinine'] < 0.5) & (variables['creatinine'] >= 0.3))) |\n",
    "                                (((variables['age_months'] >= 12) & (variables['age_months'] < 24)) & ((variables['creatinine'] < 0.6) & (variables['creatinine'] >= 0.4))) |\n",
    "                                (((variables['age_months'] >= 24) & (variables['age_months'] < 60)) & ((variables['creatinine'] < 0.9) & (variables['creatinine'] >= 0.6))) |\n",
    "                                (((variables['age_months'] >= 60) & (variables['age_months'] < 144)) & ((variables['creatinine'] < 1.1) & (variables['creatinine'] >= 0.7))) |\n",
    "                                (((variables['age_months'] >= 144) & (variables['age_months'] <= 216)) & ((variables['creatinine'] < 1.7) & (variables['creatinine'] >= 1.0))) |\n",
    "                                ((variables['age_months'] > 216) & ((variables['creatinine'] < 2.0) & (variables['creatinine'] >= 1.2))), 1, \n",
    "                        np.where(((variables['age_months'] < 1) & ((variables['creatinine'] < 1.2) & (variables['creatinine'] >= 1.0))) |\n",
    "                                (((variables['age_months'] >= 1) & (variables['age_months'] < 12)) & ((variables['creatinine'] < 0.8) & (variables['creatinine'] >= 0.5))) |\n",
    "                                (((variables['age_months'] >= 12) & (variables['age_months'] < 24)) & ((variables['creatinine'] < 1.1) & (variables['creatinine'] >= 0.6))) |\n",
    "                                (((variables['age_months'] >= 24) & (variables['age_months'] < 60)) & ((variables['creatinine'] < 1.6) & (variables['creatinine'] >= 0.9))) |\n",
    "                                (((variables['age_months'] >= 60) & (variables['age_months'] < 144)) & ((variables['creatinine'] < 1.8) & (variables['creatinine'] >= 1.1))) |\n",
    "                                (((variables['age_months'] >= 144) & (variables['age_months'] <= 216)) & ((variables['creatinine'] < 2.9) & (variables['creatinine'] >= 1.7))) |\n",
    "                                ((variables['age_months'] > 216) & ((variables['creatinine'] < 3.5) & (variables['creatinine'] >= 2.0))), 2, \n",
    "                        np.where(((variables['age_months'] < 1) & ((variables['creatinine'] < 1.6) & (variables['creatinine'] >= 1.2))) |\n",
    "                                (((variables['age_months'] >= 1) & (variables['age_months'] < 12)) & ((variables['creatinine'] < 1.2) & (variables['creatinine'] >= 0.8))) |\n",
    "                                (((variables['age_months'] >= 12) & (variables['age_months'] < 24)) & ((variables['creatinine'] < 1.5) & (variables['creatinine'] >= 1.1))) |\n",
    "                                (((variables['age_months'] >= 24) & (variables['age_months'] < 60)) & ((variables['creatinine'] < 2.3) & (variables['creatinine'] >= 1.6))) |\n",
    "                                (((variables['age_months'] >= 60) & (variables['age_months'] < 144)) & ((variables['creatinine'] < 2.6) & (variables['creatinine'] >= 1.8))) |\n",
    "                                (((variables['age_months'] >= 144) & (variables['age_months'] <= 216)) & ((variables['creatinine'] < 4.2) & (variables['creatinine'] >= 2.9))) |\n",
    "                                ((variables['age_months'] > 216) & ((variables['creatinine'] < 5) & (variables['creatinine'] >= 3.5))), 3, \n",
    "                        np.where(((variables['age_months'] < 1) & (variables['creatinine'] >= 1.6)) |\n",
    "                                (((variables['age_months'] >= 1) & (variables['age_months'] < 12)) & (variables['creatinine'] >= 1.2)) |\n",
    "                                (((variables['age_months'] >= 12) & (variables['age_months'] < 24)) & (variables['creatinine'] >= 1.5)) |\n",
    "                                (((variables['age_months'] >= 24) & (variables['age_months'] < 60)) & (variables['creatinine'] >= 2.3)) |\n",
    "                                (((variables['age_months'] >= 60) & (variables['age_months'] < 144)) & (variables['creatinine'] >= 2.6)) |\n",
    "                                (((variables['age_months'] >= 144) & (variables['age_months'] <= 216)) & (variables['creatinine'] >= 4.2)) |\n",
    "                                ((variables['age_months'] > 216) & (variables['creatinine'] >= 5)), 4, 0)))))\n",
    "\n",
    "# Create psofa components list\n",
    "psofa_comps = ['resp_psofa', 'coag_psofa', 'hep_psofa', 'card_psofa', 'neuro_psofa', 'renal_psofa']\n",
    "\n",
    "# Drop unnecessary columns\n",
    "variables.drop(['epinephrine', 'norepinephrine', 'dopamine', 'resp_indicator'], axis=1, inplace=True)"
   ]
  },
  {
   "cell_type": "code",
   "execution_count": 16,
   "metadata": {},
   "outputs": [
    {
     "name": "stdout",
     "output_type": "stream",
     "text": [
      "Unique CSN total: 35557\n"
     ]
    }
   ],
   "source": [
    "# Create flags\n",
    "\n",
    "# Flag heart rate abnormalities\n",
    "variables['abnormal_heart_rate'] = 0\n",
    "variables.loc[((variables['age_days'] <= 31) & ((variables['pulse'] < 100) | (variables['pulse'] > 190))) | \n",
    "          ((variables['age_days'] > 31) & (variables['age_years'] < 2) & ((variables['pulse'] < 90) | (variables['pulse'] > 180))) | \n",
    "          ((variables['age_years'] >= 2) & (variables['age_years'] < 6) & (variables['pulse'] > 160)) | \n",
    "          ((variables['age_years'] >= 6) & (variables['age_years'] < 13) & (variables['pulse'] > 140)) | \n",
    "          ((variables['age_years'] >= 13) & (variables['age_years'] < 18) & (variables['pulse'] > 130)), 'abnormal_heart_rate'] = 1\n",
    "\n",
    "# Flag respiratory rate abnormalities\n",
    "variables['abnormal_resp_rate'] = 0\n",
    "variables.loc[((variables['age_days'] <= 31) & (variables['resp'] > 68)) | \n",
    "          ((variables['age_days'] > 31) & (variables['age_years'] < 2) & (variables['resp'] > 58)) | \n",
    "          ((variables['age_years'] >= 2) & (variables['age_years'] < 6) & (variables['resp'] > 44)) | \n",
    "          ((variables['age_years'] >= 6) & (variables['age_years'] < 13) & (variables['resp'] > 38)) | \n",
    "          ((variables['age_years'] >= 13) & (variables['age_years'] < 18) & (variables['resp'] > 35)), 'abnormal_resp_rate'] = 1\n",
    "\n",
    "# Flag temperature abnormalities\n",
    "variables['abnormal_temp'] = 0\n",
    "variables.loc[((variables['age_days'] <= 31) & ((variables['temp'] < 36) | (variables['temp'] > 38.3))) | \n",
    "          ((variables['age_days'] > 31) & ((variables['temp'] < 36) | (variables['temp'] > 37.9))), 'abnormal_temp'] = 1\n",
    "\n",
    "# Flag WBC abnormalities\n",
    "variables['abnormal_wbc'] = 0\n",
    "variables.loc[((variables['age_days'] <= 7) & (variables['wbc'] > 34)) | \n",
    "        ((variables['age_days'] > 7) & (variables['age_days'] <= 31) & ((variables['wbc'] < 5) | (variables['wbc'] > 19.5))) | \n",
    "        ((variables['age_days'] > 31) & (variables['age_years'] < 2) & ((variables['wbc'] < 5) | (variables['wbc'] > 17.5))) |\n",
    "        ((variables['age_years'] >= 2) & (variables['age_years'] < 6) & ((variables['wbc'] < 6) | (variables['wbc'] > 15.5))) |\n",
    "        ((variables['age_years'] >= 6) & (variables['age_years'] < 13) & ((variables['wbc'] < 4.5) | (variables['wbc'] > 13.5))) |\n",
    "        ((variables['age_years'] >= 13) & (variables['age_years'] < 18) & ((variables['wbc'] < 4.5) | (variables['wbc'] > 11))), 'abnormal_wbc'] = 1\n",
    "\n",
    "# Flag neutrophil band abnormalities\n",
    "variables['abnormal_neut_bands'] = 0\n",
    "variables.loc[variables['band_neutrophils'] > 10, 'abnormal_neut_bands'] = 1\n",
    "\n",
    "# Flag blood pressure abnormalities\n",
    "variables['abnormal_bp_sys'] = 0\n",
    "variables.loc[((variables['age_days'] <= 31) & (variables['bp_sys'] < 60)) | \n",
    "            ((variables['age_days'] > 31) & (variables['age_years'] < 1) & (variables['bp_sys'] < 70)) | \n",
    "            ((variables['age_years'] >= 1) & (variables['age_years'] <= 10) & (variables['bp_sys'] < (70 + (2 * variables['age_years'])))) | \n",
    "            ((variables['age_years'] > 10) & (variables['bp_sys'] < 90)), 'abnormal_bp_sys'] = 1\n",
    "\n",
    "# Flag base deficit abnormalities\n",
    "variables['abnormal_base_deficit'] = 0\n",
    "variables.loc[variables['base_deficit'] > 5, 'abnormal_base_deficit'] = 1\n",
    "\n",
    "# Flag lactate abnormalities\n",
    "variables['abnormal_lactate'] = 0\n",
    "variables.loc[variables['lactic_acid'] > 4, 'abnormal_lactate'] = 1\n",
    "\n",
    "# Flag two consecutive SpO2 <= 90\n",
    "variables['cons_spo2_below90'] = 0\n",
    "variables.loc[variables['spo2'] <= 90, 'cons_spo2_below90'] = 1\n",
    "variables_temp = variables.loc[variables['csn'].isin(variables.loc[variables['cons_spo2_below90'] == 1, 'csn']), ['csn', 'recorded_time', 'spo2', 'cons_spo2_below90']]\n",
    "variables_temp.dropna(subset=['spo2'], inplace=True)\n",
    "variables_temp.loc[variables_temp['cons_spo2_below90'] == 0, 'cons_spo2_below90'] = 2\n",
    "variables_temp.loc[variables_temp['cons_spo2_below90'] == 1, 'cons_spo2_below90'] = 0\n",
    "variables_temp['cumsum'] = variables_temp.sort_values(['csn', 'recorded_time']).groupby('csn', as_index=False)['cons_spo2_below90'].cumsum()\n",
    "variables_temp = variables_temp.sort_values(['csn', 'recorded_time']).groupby(['csn', 'cons_spo2_below90', 'cumsum'], as_index=False).filter(lambda x: len(x) > 1)\n",
    "variables['cons_spo2_below90'] = 0\n",
    "variables.loc[variables.index.isin(variables_temp.index.tolist()), 'cons_spo2_below90'] = 1\n",
    "\n",
    "# Flag FiO2 above 50\n",
    "variables['fio2_above50'] = 0\n",
    "variables.loc[variables['fio2'] > 50, 'fio2_above50'] = 1\n",
    "\n",
    "# Flag low platelets\n",
    "variables['low_platelets'] = 0\n",
    "variables.loc[variables['platelets'] < 80, 'low_platelets'] = 1\n",
    "\n",
    "# Flag abnormal pt\n",
    "variables['abnormal_pt'] = 0\n",
    "variables.loc[variables['pt'] > 18.5, 'abnormal_pt'] = 1\n",
    "\n",
    "# Flag abnormal inr\n",
    "variables['abnormal_inr'] = 0\n",
    "variables.loc[variables['inr'] > 2.0, 'abnormal_inr'] = 1\n",
    "\n",
    "# Flag elevated creatinine\n",
    "variables['elevated_creat'] = 0\n",
    "variables.loc[((variables['age_years'] < 1) & (variables['creatinine'] >= 1.2)) | \n",
    "           ((variables['age_years'] >= 1) & (variables['creatinine'] >= 3.0)), 'elevated_creat'] = 1\n",
    "\n",
    "# Flag abnormal alt\n",
    "variables['abnormal_alt'] = 0\n",
    "variables.loc[((variables['age_days'] <= 62) & (variables['alt'] > 156)) | \n",
    "           ((variables['age_days'] > 62) & (variables['alt'] > 72)), 'abnormal_alt'] = 1\n",
    "\n",
    "# Flag abnormal ast\n",
    "variables['abnormal_ast'] = 0\n",
    "variables.loc[((variables['age_years'] < 1) & (variables['ast'] > 148)) | \n",
    "           ((variables['age_years'] >= 1) & (variables['age_years'] < 18) & (variables['ast'] > 92)), 'abnormal_ast'] = 1\n",
    "\n",
    "# Drop unnecessary variables\n",
    "variables.drop(['age_days', 'band_neutrophils', 'alt', 'ast', 'pt', 'inr'], axis=1, inplace=True)\n",
    "\n",
    "# Create flags list\n",
    "flags_list = ['abnormal_heart_rate', 'abnormal_resp_rate', 'abnormal_temp', 'abnormal_wbc', 'abnormal_neut_bands', 'abnormal_bp_sys',\n",
    "                'abnormal_base_deficit', 'abnormal_lactate', 'cons_spo2_below90', 'fio2_above50', 'low_platelets', 'abnormal_pt',\n",
    "                'abnormal_inr', 'elevated_creat', 'abnormal_alt', 'abnormal_ast']\n",
    "print('Unique CSN total:', len(variables['csn'].unique().tolist()))"
   ]
  },
  {
   "cell_type": "code",
   "execution_count": 17,
   "metadata": {},
   "outputs": [
    {
     "name": "stdout",
     "output_type": "stream",
     "text": [
      "Unique CSN total: 35557\n"
     ]
    }
   ],
   "source": [
    "# Impute missing data\n",
    "variables.sort_values(by=['csn', 'rel_time'], inplace=True)\n",
    "variables.drop(['rel_time'], axis=1, inplace=True)\n",
    "vital_signs = ['pulse', 'map', 'bp_sys', 'bp_dias', 'resp', 'spo2', 'temp']\n",
    "other_vars = [x for x in variables.columns if x not in vital_signs and x not in flags_list and x not in psofa_comps]\n",
    "variables[vital_signs] = variables.groupby(['patid', 'csn', 'dob', 'hosp_adm', 'department'])[vital_signs].ffill(limit=12)\n",
    "variables[other_vars] = variables.groupby(['patid', 'csn', 'dob', 'hosp_adm', 'department'])[other_vars].ffill(limit=36)\n",
    "variables.to_csv('pre_imp.csv', index=False)\n",
    "variables.fillna(value={'pupil_left_reaction': 'Not assessed', 'pupil_right_reaction': 'Not assessed'}, inplace=True)\n",
    "variables.fillna(variables.median(), inplace=True)\n",
    "variables.dropna(inplace=True)\n",
    "print('Unique CSN total:', len(variables['csn'].unique().tolist()))"
   ]
  },
  {
   "cell_type": "markdown",
   "metadata": {},
   "source": [
    "### Aggregate data"
   ]
  },
  {
   "cell_type": "code",
   "execution_count": 18,
   "metadata": {},
   "outputs": [
    {
     "name": "stdout",
     "output_type": "stream",
     "text": [
      "Aggregating data...\n",
      "Unique CSN total: 35557\n"
     ]
    }
   ],
   "source": [
    "# Aggregate data\n",
    "print('Aggregating data...')\n",
    "\n",
    "# Add rel day\n",
    "variables['rel_day'] = np.ceil((variables['recorded_time'] - variables['hosp_adm']) / pd.Timedelta('1 day'))\n",
    "\n",
    "max_cols = flags_list.copy()\n",
    "max_cols.extend(psofa_comps)\n",
    "\n",
    "agg_dict = {}\n",
    "for col in variables.columns:\n",
    "    if col in num_vars:\n",
    "        agg_dict[col] = ['mean', 'median', 'min', 'max', 'std', skew, kurtosis]\n",
    "    elif col in max_cols:\n",
    "        agg_dict[col] = 'max'\n",
    "    else:\n",
    "        agg_dict[col] = 'last'\n",
    "variables = variables.groupby(['patid', 'csn', 'rel_day'], as_index=False).agg(agg_dict)\n",
    "variables.reset_index(inplace=True, drop=True)\n",
    "\n",
    "col_names = []\n",
    "for name in variables.columns:\n",
    "    if name[0] not in max_cols and name[1] != 'last': \n",
    "        col_names.append(name[0] + '_' + name[1])\n",
    "    else:\n",
    "        col_names.append(name[0])\n",
    "variables.columns = col_names\n",
    "\n",
    "# Calculate psofa\n",
    "variables['psofa'] = variables['resp_psofa'] + variables['coag_psofa'] + variables['hep_psofa'] + variables['card_psofa'] + variables['neuro_psofa'] + variables['renal_psofa']\n",
    "\n",
    "# Drop unnecessary columns\n",
    "variables.drop(['resp_psofa', 'coag_psofa', 'hep_psofa', 'card_psofa', 'neuro_psofa', 'renal_psofa'], axis=1, inplace=True)\n",
    "\n",
    "print('Unique CSN total:', len(variables['csn'].unique().tolist()))"
   ]
  },
  {
   "cell_type": "markdown",
   "metadata": {},
   "source": [
    "### Add demographics"
   ]
  },
  {
   "cell_type": "code",
   "execution_count": 19,
   "metadata": {},
   "outputs": [
    {
     "name": "stdout",
     "output_type": "stream",
     "text": [
      "Unique CSN total: 35557\n"
     ]
    }
   ],
   "source": [
    "# Load demographics file\n",
    "demo = pd.read_parquet(\"/labs/kamaleswaranlab/ECMO/new_data/TAB1_Patients.parquet.gzip\")\n",
    "demo = demo[['Pat ID', 'Gender', 'Race']]\n",
    "demo.columns = ['patid', 'gender', 'race']\n",
    "\n",
    "# Add race and gender\n",
    "variables = pd.merge(variables, demo, on='patid', how=\"left\")\n",
    "\n",
    "# Fix gender\n",
    "variables['gender'] = variables['gender'].fillna('Unknown')\n",
    "\n",
    "# Fix race\n",
    "variables['race'] = variables['race'].fillna('Unknown')\n",
    "variables.loc[(variables['race'].str.contains(\";\", case=False)) & (variables['race'].str.contains(\"declined|unknown\", case=False)), 'race'] = 'Unknown'\n",
    "variables.loc[variables['race'].str.contains(\";\", case=False), 'race'] = 'Other'\n",
    "variables.loc[variables['race'].isin(['Black/African-Amer']), 'race'] = 'Black or African American'\n",
    "variables.loc[variables['race'].isin([' White,Non-Hipanic', 'White,Hispanic']), 'race'] = 'White'\n",
    "variables.loc[variables['race'].isin(['Declined', 'Non-White Hispanic', 'Other', 'Other/Declined', 'Patient Not Present', 'Parent Not Present']), 'race'] = 'Unknown'\n",
    "variables.loc[variables['race'].isin(['American Ind/Alaskan', 'Multi-Racial', 'American Indian or Alaska Native', 'Native Hawaiian or Other Pacific Islander']), 'race'] = 'Other'\n",
    "print('Unique CSN total:', len(variables['csn'].unique().tolist()))"
   ]
  },
  {
   "cell_type": "markdown",
   "metadata": {},
   "source": [
    "### Add medications flags"
   ]
  },
  {
   "cell_type": "code",
   "execution_count": 20,
   "metadata": {},
   "outputs": [
    {
     "name": "stdout",
     "output_type": "stream",
     "text": [
      "Unique CSN total: 35557\n"
     ]
    }
   ],
   "source": [
    "# Load medications\n",
    "meds = pd.read_parquet('/labs/kamaleswaranlab/dchanci/data/pediatric_sepsis/prediction_ml/updated_data/data_models/filtered_meds.parquet.gzip')\n",
    "meds[['dob', 'mar_time']] = meds[['dob', 'mar_time']].apply(pd.to_datetime)\n",
    "meds['csn'] = meds['csn'].astype(int)\n",
    "\n",
    "# Add hosp_adm\n",
    "vars_temp = variables[['csn', 'hosp_adm']]\n",
    "vars_temp.drop_duplicates(inplace=True)\n",
    "meds = meds.merge(vars_temp, how='inner', on='csn')\n",
    "\n",
    "# Calculate relative day\n",
    "meds['rel_day'] = np.nan\n",
    "meds['rel_day'] = np.ceil((meds['mar_time'] - meds['hosp_adm']) / pd.Timedelta('1 day'))\n",
    "\n",
    "variables['on_asthma_meds'] = 0\n",
    "variables['on_seizure_meds'] = 0\n",
    "variables['on_vasopressors'] = 0\n",
    "variables['on_antiinf_meds'] = 0\n",
    "variables['on_insulin'] = 0\n",
    "\n",
    "for rel_day in variables['rel_day'].unique().tolist():\n",
    "    df = meds[meds['rel_day'] == rel_day]\n",
    "    variables.loc[(variables['rel_day'] == rel_day) & (variables['csn'].isin(df.loc[df['asthma_meds'] == 1, 'csn'].unique().tolist())), 'on_asthma_meds'] = 1\n",
    "    variables.loc[(variables['rel_day'] == rel_day) & (variables['csn'].isin(df.loc[df['seizure_meds'] == 1, 'csn'].unique().tolist())), 'on_seizure_meds'] = 1\n",
    "    variables.loc[(variables['rel_day'] == rel_day) & (variables['csn'].isin(df.loc[df['vasopressors'] == 1, 'csn'].unique().tolist())), 'on_vasopressors'] = 1\n",
    "    variables.loc[(variables['rel_day'] == rel_day) & (variables['csn'].isin(df.loc[df['antiinfective_meds'] == 1, 'csn'].unique().tolist())), 'on_antiinf_meds'] = 1\n",
    "    variables.loc[(variables['rel_day'] == rel_day) & (variables['csn'].isin(df.loc[df['insulin'] == 1, 'csn'].unique().tolist())), 'on_insulin'] = 1\n",
    "print('Unique CSN total:', len(variables['csn'].unique().tolist()))"
   ]
  },
  {
   "cell_type": "markdown",
   "metadata": {},
   "source": [
    "### Add cultures flags"
   ]
  },
  {
   "cell_type": "code",
   "execution_count": 21,
   "metadata": {},
   "outputs": [
    {
     "name": "stdout",
     "output_type": "stream",
     "text": [
      "Unique CSN total: 35557\n"
     ]
    }
   ],
   "source": [
    "# Load labs - cultures\n",
    "cultures = pd.read_parquet('/labs/kamaleswaranlab/dchanci/data/pediatric_sepsis/prediction_ml/updated_data/data_models/filtered_labs.parquet.gzip')\n",
    "cultures[['order_time', 'result_time']] = cultures[['order_time', 'result_time']].apply(pd.to_datetime)\n",
    "cultures['csn'] = cultures['csn'].astype(int)\n",
    "cultures.dropna(subset='result', inplace=True)\n",
    "cultures = cultures[cultures['procedure'].str.contains('culture', case=False)]\n",
    "\n",
    "# Add hosp_adm\n",
    "cultures = cultures.merge(vars_temp, how='inner', on='csn')\n",
    "\n",
    "# Calculate relative day\n",
    "cultures['rel_day'] = np.nan\n",
    "cultures['rel_day'] = np.ceil((cultures['order_time'] - cultures['hosp_adm']) / pd.Timedelta('1 day'))\n",
    "\n",
    "# Add flag\n",
    "variables['had_cultures_ordered'] = 0\n",
    "for rel_day in variables['rel_day'].unique().tolist():\n",
    "    df = cultures[cultures['rel_day'] == rel_day]\n",
    "    variables.loc[(variables['rel_day'] == rel_day) & (variables['csn'].isin(df['csn'].unique().tolist())), 'had_cultures_ordered'] = 1\n",
    "print('Unique CSN total:', len(variables['csn'].unique().tolist()))"
   ]
  },
  {
   "cell_type": "markdown",
   "metadata": {},
   "source": [
    "### Add diagnoses flags"
   ]
  },
  {
   "cell_type": "code",
   "execution_count": 22,
   "metadata": {},
   "outputs": [
    {
     "name": "stdout",
     "output_type": "stream",
     "text": [
      "Unique CSN total: 35557\n"
     ]
    }
   ],
   "source": [
    "# Load admission diagnoses\n",
    "adm_diag = pd.read_parquet('/labs/kamaleswaranlab/dchanci/data/pediatric_sepsis/prediction_ml/updated_data/data_models/flagged_adm_diag.parquet.gzip')\n",
    "adm_diag['csn'] = adm_diag['csn'].astype(int)\n",
    "\n",
    "# Add flags\n",
    "variables['sepsis_septicemia_diag'] = 0\n",
    "variables.loc[variables['csn'].isin(adm_diag.loc[adm_diag['sepsis_septicemia'] == 1, 'csn'].unique().tolist()), 'sepsis_septicemia_diag'] = 1\n",
    "\n",
    "variables['septic_shock_diag'] = 0\n",
    "variables.loc[variables['csn'].isin(adm_diag.loc[adm_diag['septic_shock'] == 1, 'csn'].unique().tolist()), 'septic_shock_diag'] = 1\n",
    "\n",
    "variables['sickle_cell_diag'] = 0\n",
    "variables.loc[variables['csn'].isin(adm_diag.loc[adm_diag['sickle_cell'] == 1, 'csn'].unique().tolist()), 'sickle_cell_diag'] = 1\n",
    "\n",
    "variables['dka_diag'] = 0\n",
    "variables.loc[variables['csn'].isin(adm_diag.loc[adm_diag['dka'] == 1, 'csn'].unique().tolist()), 'dka_diag'] = 1\n",
    "\n",
    "variables['asthmaticus_diag'] = 0\n",
    "variables.loc[variables['csn'].isin(adm_diag.loc[adm_diag['asthmaticus'] == 1, 'csn'].unique().tolist()), 'asthmaticus_diag'] = 1\n",
    "print('Unique CSN total:', len(variables['csn'].unique().tolist()))"
   ]
  },
  {
   "cell_type": "markdown",
   "metadata": {},
   "source": [
    "### Add previous hospitalizations flags"
   ]
  },
  {
   "cell_type": "code",
   "execution_count": 23,
   "metadata": {},
   "outputs": [
    {
     "name": "stdout",
     "output_type": "stream",
     "text": [
      "Unique CSN total: 35557\n"
     ]
    }
   ],
   "source": [
    "# Load previous hospitalizations file\n",
    "prev_hosp = pd.read_parquet('/labs/kamaleswaranlab/dchanci/data/pediatric_sepsis/prediction_ml/updated_data/data_models/previous_hosp.parquet.gzip')\n",
    "prev_hosp['csn'] = prev_hosp['csn'].astype(int)\n",
    "\n",
    "# Add flags\n",
    "variables['prev_hosp'] = 0\n",
    "variables.loc[variables['csn'].isin(prev_hosp['csn'].unique().tolist()), 'prev_hosp'] = 1\n",
    "\n",
    "variables['prev_hosp_prev_year'] = 0\n",
    "variables.loc[variables['csn'].isin(prev_hosp.loc[prev_hosp['prev_year'] == 1, 'csn'].unique().tolist()), 'prev_hosp_prev_year'] = 1\n",
    "print('Unique CSN total:', len(variables['csn'].unique().tolist()))"
   ]
  },
  {
   "cell_type": "markdown",
   "metadata": {},
   "source": [
    "### Add labels"
   ]
  },
  {
   "cell_type": "code",
   "execution_count": 24,
   "metadata": {},
   "outputs": [],
   "source": [
    "# Add label\n",
    "inf_phoenix = pd.read_csv('/labs/kamaleswaranlab/dchanci/data/pediatric_sepsis/prediction_ml/updated_data/data_screening/cohort_inf_phoenix.csv')\n",
    "inf_phoenix['csn'] = inf_phoenix['csn'].astype(int)\n",
    "variables['label'] = 0\n",
    "variables.loc[variables['csn'].isin(inf_phoenix['csn'].unique().tolist()), 'label'] = 1\n",
    "variables.drop(['department', 'hosp_adm'], axis=1, inplace=True)\n",
    "\n",
    "# Save dataset file\n",
    "variables.to_parquet('/labs/kamaleswaranlab/dchanci/data/pediatric_sepsis/prediction_ml/updated_data/data_models/dataset_agg_alerts.parquet.gzip', compression='gzip')"
   ]
  },
  {
   "cell_type": "code",
   "execution_count": 26,
   "metadata": {},
   "outputs": [
    {
     "name": "stdout",
     "output_type": "stream",
     "text": [
      "sr\n",
      "Unique CSN total: 35557\n",
      "Positive CSNs 2802\n",
      "Controls CSNs 32755\n"
     ]
    }
   ],
   "source": [
    "print(campus)\n",
    "print('Unique CSN total:', len(variables['csn'].unique().tolist()))\n",
    "print('Positive CSNs', len(variables.loc[variables['label'] == 1, 'csn'].unique().tolist()))\n",
    "print('Controls CSNs', len(variables.loc[variables['label'] == 0, 'csn'].unique().tolist()))"
   ]
  }
 ],
 "metadata": {
  "kernelspec": {
   "display_name": "cv_ml",
   "language": "python",
   "name": "python3"
  },
  "language_info": {
   "codemirror_mode": {
    "name": "ipython",
    "version": 3
   },
   "file_extension": ".py",
   "mimetype": "text/x-python",
   "name": "python",
   "nbconvert_exporter": "python",
   "pygments_lexer": "ipython3",
   "version": "3.9.12"
  },
  "orig_nbformat": 4,
  "vscode": {
   "interpreter": {
    "hash": "2f97d6bd82020baef37a77fbe972a7080695ae080256bd163ad511373799f513"
   }
  }
 },
 "nbformat": 4,
 "nbformat_minor": 2
}
