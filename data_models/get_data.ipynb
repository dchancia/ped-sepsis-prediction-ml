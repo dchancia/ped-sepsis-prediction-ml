{
 "cells": [
  {
   "cell_type": "code",
   "execution_count": 2,
   "metadata": {},
   "outputs": [],
   "source": [
    "# Import libraries and packages\n",
    "import pandas as pd\n",
    "import numpy as np\n",
    "import os\n",
    "import math\n",
    "from datetime import datetime, timedelta\n",
    "from scipy import stats\n",
    "import matplotlib.pyplot as plt\n",
    "import warnings\n",
    "warnings.filterwarnings(\"ignore\")"
   ]
  },
  {
   "cell_type": "code",
   "execution_count": 2,
   "metadata": {},
   "outputs": [],
   "source": [
    "# Load cohort\n",
    "cohort = pd.read_csv('/labs/kamaleswaranlab/dchanci/data/pediatric_sepsis/prediction_ml/updated_data/data_screening/complete_cohort.csv')\n",
    "cohort['csn'] = cohort['csn'].astype(int)"
   ]
  },
  {
   "attachments": {},
   "cell_type": "markdown",
   "metadata": {},
   "source": [
    "### Extract features from Flowsheets and LABS"
   ]
  },
  {
   "cell_type": "code",
   "execution_count": 4,
   "metadata": {},
   "outputs": [
    {
     "name": "stdout",
     "output_type": "stream",
     "text": [
      "Extracting data from Flowsheet_Rows_2010.parquet.gzip file...\n",
      "Extracting data from Flowsheet_Rows_2011.parquet.gzip file...\n",
      "Extracting data from Flowsheet_Rows_2012.parquet.gzip file...\n",
      "Extracting data from Flowsheet_Rows_2013.parquet.gzip file...\n",
      "Extracting data from Flowsheet_Rows_2014.parquet.gzip file...\n",
      "Extracting data from Flowsheet_Rows_2015.parquet.gzip file...\n",
      "Extracting data from Flowsheet_Rows_2016.parquet.gzip file...\n",
      "Extracting data from Flowsheet_Rows_2017.parquet.gzip file...\n",
      "Extracting data from Flowsheet_Rows_2018.parquet.gzip file...\n",
      "Extracting data from Flowsheet_Rows_2019.parquet.gzip file...\n",
      "Extracting data from Flowsheet_Rows_2020.parquet.gzip file...\n",
      "Extracting data from Flowsheet_Rows_2021.parquet.gzip file...\n",
      "Extracting data from Flowsheet_Rows_2022.parquet.gzip file...\n",
      "Extracting data from labs file...\n",
      "Creating dataframe...\n"
     ]
    }
   ],
   "source": [
    "# Create Dictionary with variable names for flowsheets\n",
    "fs_vars = {14: 'Weight',\n",
    "            2061017: 'Code Sheet Weight (kg)',\n",
    "            8: 'Pulse', \n",
    "            2059505: 'MAP',\n",
    "            2059508: 'ABP MAP',\n",
    "            2059569: 'ART MAP',\n",
    "            5: 'BP', \n",
    "            9: 'Resp', \n",
    "            10: 'SpO2', \n",
    "            56200200: 'Perfused Pulse (SpO2)', \n",
    "            6: 'Temp',\n",
    "            2060342: 'FiO2 (%)',\n",
    "            2060631: 'PaO2/FiO2 (Calculated)',\n",
    "            2053015: 'Pupil Left Reaction',\n",
    "            2053014: 'Pupil Left Size',\n",
    "            2053013: 'Pupil Right Reaction',\n",
    "            2053012: 'Pupil Right Size',\n",
    "            2055126: 'Coma Scale Total',\n",
    "            2060343: 'Oxygen Flow (lpm)',\n",
    "            2065111: 'POC pH',\n",
    "            2065113: 'POC PO2',\n",
    "            2065112: 'POC PCO2',\n",
    "            20570250: 'Volume Infused (mL)',\n",
    "            2057578: 'Urine (mL)'}\n",
    "\n",
    "# Create Dictionary with variable names for labs\n",
    "lab_vars = {2255: 'POTASSIUM', \n",
    "            2711: 'SODIUM', \n",
    "            541: 'CHLORIDE',\n",
    "            2226: 'POC GLUCOSE', \n",
    "            1285: 'GLUCOSE', \n",
    "            393: 'BUN', \n",
    "            733: 'CREATININE', \n",
    "            417: 'CALCIUM', \n",
    "            2223: 'POC CALCIUM IONIZED',\n",
    "            663: 'CO2', \n",
    "            1431: 'HEMOGLOBIN', \n",
    "            343: 'BILIRUBIN TOTAL',\n",
    "            113: 'ALBUMIN', \n",
    "            3255: 'WBC', \n",
    "            2206: 'PLATELETS', \n",
    "            2323: 'PTT',               \n",
    "            271: 'ARTERIAL POC PCO2', \n",
    "            430: 'CAPILLARY POC PCO2', \n",
    "            3186: 'VENOUS POC PCO2',\n",
    "            273: 'ARTERIAL POC PO2', \n",
    "            432: 'CAPILLARY POC PO2', \n",
    "            3188: 'VENOUS POC PO2',\n",
    "            268: 'ARTERIAL BASE EXCESS', \n",
    "            3182: 'VENOUS BASE EXCESS',\n",
    "            426: 'CAP BASE EXCESS',\n",
    "            267: 'ART BASE DEFICIT',\n",
    "            3181: 'VENOUS BASE DEFICIT',\n",
    "            425: 'CAP BASE DEFICIT',\n",
    "            1333: 'HCO3',\n",
    "            1700: 'LACTIC ACID',\n",
    "            2229: 'POC LACTIC ACID',\n",
    "            16301: 'LACTIC ACID WHOLE BLOOD',\n",
    "            315: 'BAND NEUTROPHILS % (MANUAL)', \n",
    "            272: 'ARTERIAL POC PH', \n",
    "            431: 'CAPILLARY POC PH', \n",
    "            3187: 'VENOUS POC PH', \n",
    "            150: 'ALT (SGPT)', \n",
    "            281: 'AST (SGOT)', \n",
    "            1621: 'INT NORM RATIO', \n",
    "            2306: 'PROTIME'}\n",
    "\n",
    "# List of flowsheets\n",
    "fs_list = list(filter(lambda x: '.parquet' in x, os.listdir('/labs/kamaleswaranlab/ECMO/new_data/new_flowsheets_feb23')))\n",
    "\n",
    "# Loop through files to extract variables of dataset picu stays from flowsheets\n",
    "vars_data = []\n",
    "for filename in fs_list:\n",
    "    print('Extracting data from {} file...'.format(filename))\n",
    "    df = pd.read_parquet(os.path.join('/labs/kamaleswaranlab/ECMO/new_data/new_flowsheets_feb23', filename))\n",
    "    df = df[['Pat ID', 'Encounter CSN', 'Date of Birth', 'Row ID', 'Row Name', 'Recorded Time', 'Value']]\n",
    "    df[['Encounter CSN', 'Row ID']] = df[['Encounter CSN', 'Row ID']].astype(int)\n",
    "    vars_data.extend(df[(df['Row ID'].isin(list(fs_vars.keys()))) & (df['Encounter CSN'].isin(cohort['csn'].unique().tolist()))].values)\n",
    "\n",
    "# Extract variables of dataset patients from labs\n",
    "print('Extracting data from labs file...')\n",
    "df = pd.read_parquet('/labs/kamaleswaranlab/ECMO/new_data/DR15269_LABsAndPFTs.parquet.gzip')\n",
    "df = df[['Pat ID', 'Encounter CSN', 'Date of Birth', 'Component ID', 'Component', 'Result Date', 'Result']]\n",
    "df.columns = ['Pat ID', 'Encounter CSN', 'Date of Birth', 'Row ID', 'Row Name', 'Recorded Time', 'Value']\n",
    "df[['Encounter CSN', 'Row ID']] = df[['Encounter CSN', 'Row ID']].astype(int)\n",
    "vars_data.extend(df[(df['Row ID'].isin(list(lab_vars.keys()))) & (df['Encounter CSN'].isin(cohort['csn'].unique().tolist()))].values)\n",
    "\n",
    "# Create dataframe\n",
    "print('Creating dataframe...')\n",
    "variables = pd.DataFrame(vars_data)\n",
    "variables.columns = ['patid', 'csn', 'dob', 'variable_id', 'variable_name', 'recorded_time', 'value']\n",
    "variables.reset_index(drop=True, inplace=True)\n",
    "\n",
    "# Save dataset file\n",
    "variables.to_parquet('/labs/kamaleswaranlab/dchanci/data/pediatric_sepsis/prediction_ml/updated_data/data_models/raw_features.parquet.gzip', compression='gzip')"
   ]
  },
  {
   "cell_type": "code",
   "execution_count": 5,
   "metadata": {},
   "outputs": [
    {
     "name": "stdout",
     "output_type": "stream",
     "text": [
      "Unique CSN total: 63877\n"
     ]
    }
   ],
   "source": [
    "print('Unique CSN total:', len(variables['csn'].unique().tolist()))"
   ]
  }
 ],
 "metadata": {
  "kernelspec": {
   "display_name": "cv_ml",
   "language": "python",
   "name": "python3"
  },
  "language_info": {
   "codemirror_mode": {
    "name": "ipython",
    "version": 3
   },
   "file_extension": ".py",
   "mimetype": "text/x-python",
   "name": "python",
   "nbconvert_exporter": "python",
   "pygments_lexer": "ipython3",
   "version": "3.9.12"
  },
  "orig_nbformat": 4,
  "vscode": {
   "interpreter": {
    "hash": "2f97d6bd82020baef37a77fbe972a7080695ae080256bd163ad511373799f513"
   }
  }
 },
 "nbformat": 4,
 "nbformat_minor": 2
}
